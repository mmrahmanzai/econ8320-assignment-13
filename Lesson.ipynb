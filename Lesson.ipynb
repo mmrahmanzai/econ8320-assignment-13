{
  "cells": [
    {
      "cell_type": "markdown",
      "metadata": {
        "id": "mpSn38roT2Jf"
      },
      "source": [
        "# Statistical Modeling in Python"
      ]
    },
    {
      "cell_type": "markdown",
      "metadata": {
        "tags": [],
        "id": "Dt69RyxWT2Jg"
      },
      "source": [
        "### Customization vs Rapid Development\n",
        "\n",
        "As we know from (painful?) experience, Python is powerful because of its ability to leverage `numpy` and `scipy` to implement any statistical model from scratch. We can write the requisite matrix algebra, or the relevant likelihood function, and from there can optimize our model, calculate confidence intervals, and report the output of that model through data frames, lists, or printed tables. Building our own models is great! We get to build a model based on the exact context and assumptions of our problem, and therefore get exactly the model that we wanted. Unfortunately, it takes a LOT of time!\n",
        "\n",
        "This lesson will provide our first exposure to pre-written statistical modeling in Python. We will be able to use only a couple of lines of code to implement complex and valuable statistical and machine learning models. Because the most costly asset in programming is the time that we spend debugging and writing code (running code is MUCH faster and cheaper than the time spent writing code), we are always looking for ways to avoid writing code that someone else has already written.\n",
        "\n",
        "`statsmodels` is a library that covers the majority of regression models commonly used by economists and statisticians in other fields.\n",
        "\n",
        "`sklearn` is an analogous library that covers machine learning models (aside from deep neural networks, which have their own implementations).\n",
        "\n",
        "Each of these libraries is highly optimized to provide performant implementations of models that we use regularly, and allow us to avoid writing these models from scratch unless we need to customize our model for some specific use case! This is great news! You'll never have to think about writing your own linear or logistic regression from scratch again!\n",
        "\n",
        "Let's dive in.\n"
      ]
    },
    {
      "cell_type": "markdown",
      "metadata": {
        "id": "pIfFFZLuT2Jh"
      },
      "source": [
        "## Statsmodels"
      ]
    },
    {
      "cell_type": "markdown",
      "metadata": {
        "id": "wl8rZmtIT2Jh"
      },
      "source": [
        "`statsmodels` makes statistics in Python easy! The library contains tools for regressions ranging from linear regression, to logistic regression, count regressions (negative binomial and poisson), various options for robust covariance measures, and tools to implement time series models as well! There are also really useful tools for assisting in creating our regression model based on any structure that best suits us.\n",
        "\n",
        "We can import `statsmodels` in one of two ways:\n",
        "\n",
        "1) With support for R-style formulas:"
      ]
    },
    {
      "cell_type": "code",
      "execution_count": null,
      "metadata": {
        "id": "HvNTYZNUT2Jh"
      },
      "outputs": [],
      "source": [
        "import statsmodels.formula.api as sm"
      ]
    },
    {
      "cell_type": "markdown",
      "metadata": {
        "id": "cOM7NFPkT2Ji"
      },
      "source": [
        "    /opt/conda/lib/python3.7/site-packages/statsmodels/tools/_testing.py:19: FutureWarning: pandas.util.testing is deprecated. Use the functions in the public API at pandas.testing instead.\n",
        "      import pandas.util.testing as tm\n",
        "\n",
        "\n",
        "This is probably the best way to import our data if we are doing regression analysis for causal inference. In these cases, we are not typically trying to make predictions as new data arrives, and so we do not need to have tools ready to analyze new data using our existing regression models.\n",
        "\n",
        "2) Import `statsmodels` to use pre-built numpy arrays as inputs:"
      ]
    },
    {
      "cell_type": "code",
      "execution_count": null,
      "metadata": {
        "id": "krvg41ykT2Ji"
      },
      "outputs": [],
      "source": [
        "import statsmodels.api as sm"
      ]
    },
    {
      "cell_type": "markdown",
      "metadata": {
        "id": "wVsxThX-T2Ji"
      },
      "source": [
        "In this case, we have other tools that we can use, but we need to manually arrange our `x` and `y` matrices. It looks clunky at first, but can be useful when we are building predictive pipelines using regression models, or when we might want to use both `statsmodels` and `sklearn` with the same data source.\n",
        "\n",
        "Let's start with option 1..."
      ]
    },
    {
      "cell_type": "markdown",
      "metadata": {
        "id": "QyBh7TKCT2Ji"
      },
      "source": [
        "### Preparing a Dataset"
      ]
    },
    {
      "cell_type": "markdown",
      "metadata": {
        "id": "nSCCcAUIT2Jj"
      },
      "source": [
        "When using formulas, we prepare our dataset by importing the data into a Pandas `DataFrame`. We should take care that each of our variables has a name with\n",
        "1) **No spaces**\n",
        "2) No symbols\n",
        "3) Made up of letters and numbers (also can't have a number as the first character)\n",
        "\n",
        "Our code so far might look something like:"
      ]
    },
    {
      "cell_type": "code",
      "execution_count": null,
      "metadata": {
        "colab": {
          "base_uri": "https://localhost:8080/",
          "height": 423
        },
        "id": "EW8b4crvT2Jj",
        "outputId": "414af1cf-f124-49e5-c5b2-80a0f70443b9"
      },
      "outputs": [
        {
          "output_type": "execute_result",
          "data": {
            "text/plain": [
              "       Unnamed: 0     index  year  datanum    serial   hhwt  cpi99  region  \\\n",
              "0               0  20134147  2014        1  730568.0   23.0  0.704      22   \n",
              "1               1  20134148  2014        1  730568.0   23.0  0.704      22   \n",
              "2               2  20134149  2014        1  730569.0   43.0  0.704      22   \n",
              "3               3  20134151  2014        1  730571.0  110.0  0.704      22   \n",
              "4               4  20134152  2014        1  730571.0  110.0  0.704      22   \n",
              "...           ...       ...   ...      ...       ...    ...    ...     ...   \n",
              "13707       13707  20153323  2014        1  739100.0   90.0  0.704      22   \n",
              "13708       13708  20153324  2014        1  739100.0   90.0  0.704      22   \n",
              "13709       13709  20153325  2014        1  739101.0   63.0  0.704      22   \n",
              "13710       13710  20153326  2014        1  739102.0  102.0  0.704      22   \n",
              "13711       13711  20153327  2014        1  739102.0  102.0  0.704      22   \n",
              "\n",
              "       statefip  countyfips  ...  ind5  ind6  ind7  ind8  ind9  ind10  ind11  \\\n",
              "0            31           0  ...     0     0     1     0     0      0      0   \n",
              "1            31           0  ...     0     0     0     0     0      0      0   \n",
              "2            31           0  ...     0     0     0     0     0      0      0   \n",
              "3            31           0  ...     0     0     1     0     0      0      0   \n",
              "4            31           0  ...     0     0     0     0     0      0      0   \n",
              "...         ...         ...  ...   ...   ...   ...   ...   ...    ...    ...   \n",
              "13707        31           0  ...     0     0     0     0     0      0      0   \n",
              "13708        31           0  ...     0     0     0     0     0      1      0   \n",
              "13709        31         109  ...     0     1     0     0     0      0      0   \n",
              "13710        31         109  ...     0     0     0     0     0      0      0   \n",
              "13711        31         109  ...     0     0     0     0     0      0      1   \n",
              "\n",
              "       weekswork  totalhrs     hrwage  \n",
              "0           52.0    2080.0   9.134615  \n",
              "1           52.0    2080.0  12.019231  \n",
              "2            NaN       NaN        NaN  \n",
              "3           52.0    2080.0  19.230769  \n",
              "4           52.0    2080.0  15.384615  \n",
              "...          ...       ...        ...  \n",
              "13707       52.0    2080.0  25.000000  \n",
              "13708       52.0    2080.0   0.000000  \n",
              "13709       47.0    1880.0   9.680851  \n",
              "13710        NaN       NaN        NaN  \n",
              "13711       52.0    2080.0  21.634615  \n",
              "\n",
              "[13712 rows x 95 columns]"
            ],
            "text/html": [
              "\n",
              "  <div id=\"df-949bf3e8-ebe0-48cb-87db-28139c7ce528\" class=\"colab-df-container\">\n",
              "    <div>\n",
              "<style scoped>\n",
              "    .dataframe tbody tr th:only-of-type {\n",
              "        vertical-align: middle;\n",
              "    }\n",
              "\n",
              "    .dataframe tbody tr th {\n",
              "        vertical-align: top;\n",
              "    }\n",
              "\n",
              "    .dataframe thead th {\n",
              "        text-align: right;\n",
              "    }\n",
              "</style>\n",
              "<table border=\"1\" class=\"dataframe\">\n",
              "  <thead>\n",
              "    <tr style=\"text-align: right;\">\n",
              "      <th></th>\n",
              "      <th>Unnamed: 0</th>\n",
              "      <th>index</th>\n",
              "      <th>year</th>\n",
              "      <th>datanum</th>\n",
              "      <th>serial</th>\n",
              "      <th>hhwt</th>\n",
              "      <th>cpi99</th>\n",
              "      <th>region</th>\n",
              "      <th>statefip</th>\n",
              "      <th>countyfips</th>\n",
              "      <th>...</th>\n",
              "      <th>ind5</th>\n",
              "      <th>ind6</th>\n",
              "      <th>ind7</th>\n",
              "      <th>ind8</th>\n",
              "      <th>ind9</th>\n",
              "      <th>ind10</th>\n",
              "      <th>ind11</th>\n",
              "      <th>weekswork</th>\n",
              "      <th>totalhrs</th>\n",
              "      <th>hrwage</th>\n",
              "    </tr>\n",
              "  </thead>\n",
              "  <tbody>\n",
              "    <tr>\n",
              "      <th>0</th>\n",
              "      <td>0</td>\n",
              "      <td>20134147</td>\n",
              "      <td>2014</td>\n",
              "      <td>1</td>\n",
              "      <td>730568.0</td>\n",
              "      <td>23.0</td>\n",
              "      <td>0.704</td>\n",
              "      <td>22</td>\n",
              "      <td>31</td>\n",
              "      <td>0</td>\n",
              "      <td>...</td>\n",
              "      <td>0</td>\n",
              "      <td>0</td>\n",
              "      <td>1</td>\n",
              "      <td>0</td>\n",
              "      <td>0</td>\n",
              "      <td>0</td>\n",
              "      <td>0</td>\n",
              "      <td>52.0</td>\n",
              "      <td>2080.0</td>\n",
              "      <td>9.134615</td>\n",
              "    </tr>\n",
              "    <tr>\n",
              "      <th>1</th>\n",
              "      <td>1</td>\n",
              "      <td>20134148</td>\n",
              "      <td>2014</td>\n",
              "      <td>1</td>\n",
              "      <td>730568.0</td>\n",
              "      <td>23.0</td>\n",
              "      <td>0.704</td>\n",
              "      <td>22</td>\n",
              "      <td>31</td>\n",
              "      <td>0</td>\n",
              "      <td>...</td>\n",
              "      <td>0</td>\n",
              "      <td>0</td>\n",
              "      <td>0</td>\n",
              "      <td>0</td>\n",
              "      <td>0</td>\n",
              "      <td>0</td>\n",
              "      <td>0</td>\n",
              "      <td>52.0</td>\n",
              "      <td>2080.0</td>\n",
              "      <td>12.019231</td>\n",
              "    </tr>\n",
              "    <tr>\n",
              "      <th>2</th>\n",
              "      <td>2</td>\n",
              "      <td>20134149</td>\n",
              "      <td>2014</td>\n",
              "      <td>1</td>\n",
              "      <td>730569.0</td>\n",
              "      <td>43.0</td>\n",
              "      <td>0.704</td>\n",
              "      <td>22</td>\n",
              "      <td>31</td>\n",
              "      <td>0</td>\n",
              "      <td>...</td>\n",
              "      <td>0</td>\n",
              "      <td>0</td>\n",
              "      <td>0</td>\n",
              "      <td>0</td>\n",
              "      <td>0</td>\n",
              "      <td>0</td>\n",
              "      <td>0</td>\n",
              "      <td>NaN</td>\n",
              "      <td>NaN</td>\n",
              "      <td>NaN</td>\n",
              "    </tr>\n",
              "    <tr>\n",
              "      <th>3</th>\n",
              "      <td>3</td>\n",
              "      <td>20134151</td>\n",
              "      <td>2014</td>\n",
              "      <td>1</td>\n",
              "      <td>730571.0</td>\n",
              "      <td>110.0</td>\n",
              "      <td>0.704</td>\n",
              "      <td>22</td>\n",
              "      <td>31</td>\n",
              "      <td>0</td>\n",
              "      <td>...</td>\n",
              "      <td>0</td>\n",
              "      <td>0</td>\n",
              "      <td>1</td>\n",
              "      <td>0</td>\n",
              "      <td>0</td>\n",
              "      <td>0</td>\n",
              "      <td>0</td>\n",
              "      <td>52.0</td>\n",
              "      <td>2080.0</td>\n",
              "      <td>19.230769</td>\n",
              "    </tr>\n",
              "    <tr>\n",
              "      <th>4</th>\n",
              "      <td>4</td>\n",
              "      <td>20134152</td>\n",
              "      <td>2014</td>\n",
              "      <td>1</td>\n",
              "      <td>730571.0</td>\n",
              "      <td>110.0</td>\n",
              "      <td>0.704</td>\n",
              "      <td>22</td>\n",
              "      <td>31</td>\n",
              "      <td>0</td>\n",
              "      <td>...</td>\n",
              "      <td>0</td>\n",
              "      <td>0</td>\n",
              "      <td>0</td>\n",
              "      <td>0</td>\n",
              "      <td>0</td>\n",
              "      <td>0</td>\n",
              "      <td>0</td>\n",
              "      <td>52.0</td>\n",
              "      <td>2080.0</td>\n",
              "      <td>15.384615</td>\n",
              "    </tr>\n",
              "    <tr>\n",
              "      <th>...</th>\n",
              "      <td>...</td>\n",
              "      <td>...</td>\n",
              "      <td>...</td>\n",
              "      <td>...</td>\n",
              "      <td>...</td>\n",
              "      <td>...</td>\n",
              "      <td>...</td>\n",
              "      <td>...</td>\n",
              "      <td>...</td>\n",
              "      <td>...</td>\n",
              "      <td>...</td>\n",
              "      <td>...</td>\n",
              "      <td>...</td>\n",
              "      <td>...</td>\n",
              "      <td>...</td>\n",
              "      <td>...</td>\n",
              "      <td>...</td>\n",
              "      <td>...</td>\n",
              "      <td>...</td>\n",
              "      <td>...</td>\n",
              "      <td>...</td>\n",
              "    </tr>\n",
              "    <tr>\n",
              "      <th>13707</th>\n",
              "      <td>13707</td>\n",
              "      <td>20153323</td>\n",
              "      <td>2014</td>\n",
              "      <td>1</td>\n",
              "      <td>739100.0</td>\n",
              "      <td>90.0</td>\n",
              "      <td>0.704</td>\n",
              "      <td>22</td>\n",
              "      <td>31</td>\n",
              "      <td>0</td>\n",
              "      <td>...</td>\n",
              "      <td>0</td>\n",
              "      <td>0</td>\n",
              "      <td>0</td>\n",
              "      <td>0</td>\n",
              "      <td>0</td>\n",
              "      <td>0</td>\n",
              "      <td>0</td>\n",
              "      <td>52.0</td>\n",
              "      <td>2080.0</td>\n",
              "      <td>25.000000</td>\n",
              "    </tr>\n",
              "    <tr>\n",
              "      <th>13708</th>\n",
              "      <td>13708</td>\n",
              "      <td>20153324</td>\n",
              "      <td>2014</td>\n",
              "      <td>1</td>\n",
              "      <td>739100.0</td>\n",
              "      <td>90.0</td>\n",
              "      <td>0.704</td>\n",
              "      <td>22</td>\n",
              "      <td>31</td>\n",
              "      <td>0</td>\n",
              "      <td>...</td>\n",
              "      <td>0</td>\n",
              "      <td>0</td>\n",
              "      <td>0</td>\n",
              "      <td>0</td>\n",
              "      <td>0</td>\n",
              "      <td>1</td>\n",
              "      <td>0</td>\n",
              "      <td>52.0</td>\n",
              "      <td>2080.0</td>\n",
              "      <td>0.000000</td>\n",
              "    </tr>\n",
              "    <tr>\n",
              "      <th>13709</th>\n",
              "      <td>13709</td>\n",
              "      <td>20153325</td>\n",
              "      <td>2014</td>\n",
              "      <td>1</td>\n",
              "      <td>739101.0</td>\n",
              "      <td>63.0</td>\n",
              "      <td>0.704</td>\n",
              "      <td>22</td>\n",
              "      <td>31</td>\n",
              "      <td>109</td>\n",
              "      <td>...</td>\n",
              "      <td>0</td>\n",
              "      <td>1</td>\n",
              "      <td>0</td>\n",
              "      <td>0</td>\n",
              "      <td>0</td>\n",
              "      <td>0</td>\n",
              "      <td>0</td>\n",
              "      <td>47.0</td>\n",
              "      <td>1880.0</td>\n",
              "      <td>9.680851</td>\n",
              "    </tr>\n",
              "    <tr>\n",
              "      <th>13710</th>\n",
              "      <td>13710</td>\n",
              "      <td>20153326</td>\n",
              "      <td>2014</td>\n",
              "      <td>1</td>\n",
              "      <td>739102.0</td>\n",
              "      <td>102.0</td>\n",
              "      <td>0.704</td>\n",
              "      <td>22</td>\n",
              "      <td>31</td>\n",
              "      <td>109</td>\n",
              "      <td>...</td>\n",
              "      <td>0</td>\n",
              "      <td>0</td>\n",
              "      <td>0</td>\n",
              "      <td>0</td>\n",
              "      <td>0</td>\n",
              "      <td>0</td>\n",
              "      <td>0</td>\n",
              "      <td>NaN</td>\n",
              "      <td>NaN</td>\n",
              "      <td>NaN</td>\n",
              "    </tr>\n",
              "    <tr>\n",
              "      <th>13711</th>\n",
              "      <td>13711</td>\n",
              "      <td>20153327</td>\n",
              "      <td>2014</td>\n",
              "      <td>1</td>\n",
              "      <td>739102.0</td>\n",
              "      <td>102.0</td>\n",
              "      <td>0.704</td>\n",
              "      <td>22</td>\n",
              "      <td>31</td>\n",
              "      <td>109</td>\n",
              "      <td>...</td>\n",
              "      <td>0</td>\n",
              "      <td>0</td>\n",
              "      <td>0</td>\n",
              "      <td>0</td>\n",
              "      <td>0</td>\n",
              "      <td>0</td>\n",
              "      <td>1</td>\n",
              "      <td>52.0</td>\n",
              "      <td>2080.0</td>\n",
              "      <td>21.634615</td>\n",
              "    </tr>\n",
              "  </tbody>\n",
              "</table>\n",
              "<p>13712 rows × 95 columns</p>\n",
              "</div>\n",
              "    <div class=\"colab-df-buttons\">\n",
              "\n",
              "  <div class=\"colab-df-container\">\n",
              "    <button class=\"colab-df-convert\" onclick=\"convertToInteractive('df-949bf3e8-ebe0-48cb-87db-28139c7ce528')\"\n",
              "            title=\"Convert this dataframe to an interactive table.\"\n",
              "            style=\"display:none;\">\n",
              "\n",
              "  <svg xmlns=\"http://www.w3.org/2000/svg\" height=\"24px\" viewBox=\"0 -960 960 960\">\n",
              "    <path d=\"M120-120v-720h720v720H120Zm60-500h600v-160H180v160Zm220 220h160v-160H400v160Zm0 220h160v-160H400v160ZM180-400h160v-160H180v160Zm440 0h160v-160H620v160ZM180-180h160v-160H180v160Zm440 0h160v-160H620v160Z\"/>\n",
              "  </svg>\n",
              "    </button>\n",
              "\n",
              "  <style>\n",
              "    .colab-df-container {\n",
              "      display:flex;\n",
              "      gap: 12px;\n",
              "    }\n",
              "\n",
              "    .colab-df-convert {\n",
              "      background-color: #E8F0FE;\n",
              "      border: none;\n",
              "      border-radius: 50%;\n",
              "      cursor: pointer;\n",
              "      display: none;\n",
              "      fill: #1967D2;\n",
              "      height: 32px;\n",
              "      padding: 0 0 0 0;\n",
              "      width: 32px;\n",
              "    }\n",
              "\n",
              "    .colab-df-convert:hover {\n",
              "      background-color: #E2EBFA;\n",
              "      box-shadow: 0px 1px 2px rgba(60, 64, 67, 0.3), 0px 1px 3px 1px rgba(60, 64, 67, 0.15);\n",
              "      fill: #174EA6;\n",
              "    }\n",
              "\n",
              "    .colab-df-buttons div {\n",
              "      margin-bottom: 4px;\n",
              "    }\n",
              "\n",
              "    [theme=dark] .colab-df-convert {\n",
              "      background-color: #3B4455;\n",
              "      fill: #D2E3FC;\n",
              "    }\n",
              "\n",
              "    [theme=dark] .colab-df-convert:hover {\n",
              "      background-color: #434B5C;\n",
              "      box-shadow: 0px 1px 3px 1px rgba(0, 0, 0, 0.15);\n",
              "      filter: drop-shadow(0px 1px 2px rgba(0, 0, 0, 0.3));\n",
              "      fill: #FFFFFF;\n",
              "    }\n",
              "  </style>\n",
              "\n",
              "    <script>\n",
              "      const buttonEl =\n",
              "        document.querySelector('#df-949bf3e8-ebe0-48cb-87db-28139c7ce528 button.colab-df-convert');\n",
              "      buttonEl.style.display =\n",
              "        google.colab.kernel.accessAllowed ? 'block' : 'none';\n",
              "\n",
              "      async function convertToInteractive(key) {\n",
              "        const element = document.querySelector('#df-949bf3e8-ebe0-48cb-87db-28139c7ce528');\n",
              "        const dataTable =\n",
              "          await google.colab.kernel.invokeFunction('convertToInteractive',\n",
              "                                                    [key], {});\n",
              "        if (!dataTable) return;\n",
              "\n",
              "        const docLinkHtml = 'Like what you see? Visit the ' +\n",
              "          '<a target=\"_blank\" href=https://colab.research.google.com/notebooks/data_table.ipynb>data table notebook</a>'\n",
              "          + ' to learn more about interactive tables.';\n",
              "        element.innerHTML = '';\n",
              "        dataTable['output_type'] = 'display_data';\n",
              "        await google.colab.output.renderOutput(dataTable, element);\n",
              "        const docLink = document.createElement('div');\n",
              "        docLink.innerHTML = docLinkHtml;\n",
              "        element.appendChild(docLink);\n",
              "      }\n",
              "    </script>\n",
              "  </div>\n",
              "\n",
              "\n",
              "<div id=\"df-750ad349-9227-4940-932a-7c0211509966\">\n",
              "  <button class=\"colab-df-quickchart\" onclick=\"quickchart('df-750ad349-9227-4940-932a-7c0211509966')\"\n",
              "            title=\"Suggest charts\"\n",
              "            style=\"display:none;\">\n",
              "\n",
              "<svg xmlns=\"http://www.w3.org/2000/svg\" height=\"24px\"viewBox=\"0 0 24 24\"\n",
              "     width=\"24px\">\n",
              "    <g>\n",
              "        <path d=\"M19 3H5c-1.1 0-2 .9-2 2v14c0 1.1.9 2 2 2h14c1.1 0 2-.9 2-2V5c0-1.1-.9-2-2-2zM9 17H7v-7h2v7zm4 0h-2V7h2v10zm4 0h-2v-4h2v4z\"/>\n",
              "    </g>\n",
              "</svg>\n",
              "  </button>\n",
              "\n",
              "<style>\n",
              "  .colab-df-quickchart {\n",
              "      --bg-color: #E8F0FE;\n",
              "      --fill-color: #1967D2;\n",
              "      --hover-bg-color: #E2EBFA;\n",
              "      --hover-fill-color: #174EA6;\n",
              "      --disabled-fill-color: #AAA;\n",
              "      --disabled-bg-color: #DDD;\n",
              "  }\n",
              "\n",
              "  [theme=dark] .colab-df-quickchart {\n",
              "      --bg-color: #3B4455;\n",
              "      --fill-color: #D2E3FC;\n",
              "      --hover-bg-color: #434B5C;\n",
              "      --hover-fill-color: #FFFFFF;\n",
              "      --disabled-bg-color: #3B4455;\n",
              "      --disabled-fill-color: #666;\n",
              "  }\n",
              "\n",
              "  .colab-df-quickchart {\n",
              "    background-color: var(--bg-color);\n",
              "    border: none;\n",
              "    border-radius: 50%;\n",
              "    cursor: pointer;\n",
              "    display: none;\n",
              "    fill: var(--fill-color);\n",
              "    height: 32px;\n",
              "    padding: 0;\n",
              "    width: 32px;\n",
              "  }\n",
              "\n",
              "  .colab-df-quickchart:hover {\n",
              "    background-color: var(--hover-bg-color);\n",
              "    box-shadow: 0 1px 2px rgba(60, 64, 67, 0.3), 0 1px 3px 1px rgba(60, 64, 67, 0.15);\n",
              "    fill: var(--button-hover-fill-color);\n",
              "  }\n",
              "\n",
              "  .colab-df-quickchart-complete:disabled,\n",
              "  .colab-df-quickchart-complete:disabled:hover {\n",
              "    background-color: var(--disabled-bg-color);\n",
              "    fill: var(--disabled-fill-color);\n",
              "    box-shadow: none;\n",
              "  }\n",
              "\n",
              "  .colab-df-spinner {\n",
              "    border: 2px solid var(--fill-color);\n",
              "    border-color: transparent;\n",
              "    border-bottom-color: var(--fill-color);\n",
              "    animation:\n",
              "      spin 1s steps(1) infinite;\n",
              "  }\n",
              "\n",
              "  @keyframes spin {\n",
              "    0% {\n",
              "      border-color: transparent;\n",
              "      border-bottom-color: var(--fill-color);\n",
              "      border-left-color: var(--fill-color);\n",
              "    }\n",
              "    20% {\n",
              "      border-color: transparent;\n",
              "      border-left-color: var(--fill-color);\n",
              "      border-top-color: var(--fill-color);\n",
              "    }\n",
              "    30% {\n",
              "      border-color: transparent;\n",
              "      border-left-color: var(--fill-color);\n",
              "      border-top-color: var(--fill-color);\n",
              "      border-right-color: var(--fill-color);\n",
              "    }\n",
              "    40% {\n",
              "      border-color: transparent;\n",
              "      border-right-color: var(--fill-color);\n",
              "      border-top-color: var(--fill-color);\n",
              "    }\n",
              "    60% {\n",
              "      border-color: transparent;\n",
              "      border-right-color: var(--fill-color);\n",
              "    }\n",
              "    80% {\n",
              "      border-color: transparent;\n",
              "      border-right-color: var(--fill-color);\n",
              "      border-bottom-color: var(--fill-color);\n",
              "    }\n",
              "    90% {\n",
              "      border-color: transparent;\n",
              "      border-bottom-color: var(--fill-color);\n",
              "    }\n",
              "  }\n",
              "</style>\n",
              "\n",
              "  <script>\n",
              "    async function quickchart(key) {\n",
              "      const quickchartButtonEl =\n",
              "        document.querySelector('#' + key + ' button');\n",
              "      quickchartButtonEl.disabled = true;  // To prevent multiple clicks.\n",
              "      quickchartButtonEl.classList.add('colab-df-spinner');\n",
              "      try {\n",
              "        const charts = await google.colab.kernel.invokeFunction(\n",
              "            'suggestCharts', [key], {});\n",
              "      } catch (error) {\n",
              "        console.error('Error during call to suggestCharts:', error);\n",
              "      }\n",
              "      quickchartButtonEl.classList.remove('colab-df-spinner');\n",
              "      quickchartButtonEl.classList.add('colab-df-quickchart-complete');\n",
              "    }\n",
              "    (() => {\n",
              "      let quickchartButtonEl =\n",
              "        document.querySelector('#df-750ad349-9227-4940-932a-7c0211509966 button');\n",
              "      quickchartButtonEl.style.display =\n",
              "        google.colab.kernel.accessAllowed ? 'block' : 'none';\n",
              "    })();\n",
              "  </script>\n",
              "</div>\n",
              "\n",
              "  <div id=\"id_ec1c071a-9add-4a76-8283-7a63f2c9ec82\">\n",
              "    <style>\n",
              "      .colab-df-generate {\n",
              "        background-color: #E8F0FE;\n",
              "        border: none;\n",
              "        border-radius: 50%;\n",
              "        cursor: pointer;\n",
              "        display: none;\n",
              "        fill: #1967D2;\n",
              "        height: 32px;\n",
              "        padding: 0 0 0 0;\n",
              "        width: 32px;\n",
              "      }\n",
              "\n",
              "      .colab-df-generate:hover {\n",
              "        background-color: #E2EBFA;\n",
              "        box-shadow: 0px 1px 2px rgba(60, 64, 67, 0.3), 0px 1px 3px 1px rgba(60, 64, 67, 0.15);\n",
              "        fill: #174EA6;\n",
              "      }\n",
              "\n",
              "      [theme=dark] .colab-df-generate {\n",
              "        background-color: #3B4455;\n",
              "        fill: #D2E3FC;\n",
              "      }\n",
              "\n",
              "      [theme=dark] .colab-df-generate:hover {\n",
              "        background-color: #434B5C;\n",
              "        box-shadow: 0px 1px 3px 1px rgba(0, 0, 0, 0.15);\n",
              "        filter: drop-shadow(0px 1px 2px rgba(0, 0, 0, 0.3));\n",
              "        fill: #FFFFFF;\n",
              "      }\n",
              "    </style>\n",
              "    <button class=\"colab-df-generate\" onclick=\"generateWithVariable('data')\"\n",
              "            title=\"Generate code using this dataframe.\"\n",
              "            style=\"display:none;\">\n",
              "\n",
              "  <svg xmlns=\"http://www.w3.org/2000/svg\" height=\"24px\"viewBox=\"0 0 24 24\"\n",
              "       width=\"24px\">\n",
              "    <path d=\"M7,19H8.4L18.45,9,17,7.55,7,17.6ZM5,21V16.75L18.45,3.32a2,2,0,0,1,2.83,0l1.4,1.43a1.91,1.91,0,0,1,.58,1.4,1.91,1.91,0,0,1-.58,1.4L9.25,21ZM18.45,9,17,7.55Zm-12,3A5.31,5.31,0,0,0,4.9,8.1,5.31,5.31,0,0,0,1,6.5,5.31,5.31,0,0,0,4.9,4.9,5.31,5.31,0,0,0,6.5,1,5.31,5.31,0,0,0,8.1,4.9,5.31,5.31,0,0,0,12,6.5,5.46,5.46,0,0,0,6.5,12Z\"/>\n",
              "  </svg>\n",
              "    </button>\n",
              "    <script>\n",
              "      (() => {\n",
              "      const buttonEl =\n",
              "        document.querySelector('#id_ec1c071a-9add-4a76-8283-7a63f2c9ec82 button.colab-df-generate');\n",
              "      buttonEl.style.display =\n",
              "        google.colab.kernel.accessAllowed ? 'block' : 'none';\n",
              "\n",
              "      buttonEl.onclick = () => {\n",
              "        google.colab.notebook.generateWithVariable('data');\n",
              "      }\n",
              "      })();\n",
              "    </script>\n",
              "  </div>\n",
              "\n",
              "    </div>\n",
              "  </div>\n"
            ],
            "application/vnd.google.colaboratory.intrinsic+json": {
              "type": "dataframe",
              "variable_name": "data"
            }
          },
          "metadata": {},
          "execution_count": 4
        }
      ],
      "source": [
        "import statsmodels.formula.api as smf\n",
        "import pandas as pd, numpy as np\n",
        "\n",
        "data = pd.read_csv(\"https://github.com/dustywhite7/Econ8320/blob/master/AssignmentData/assignment8Data.csv?raw=true\")\n",
        "\n",
        "data"
      ]
    },
    {
      "cell_type": "markdown",
      "metadata": {
        "id": "_GvdlgELT2Jj"
      },
      "source": [
        "Assuming that our data set has already been cleaned. If our data has not yet been cleaned, then we need to clean our data prior to working with either `statsmodels` or `sklearn`. This is because regression AND machine learning models require that all information be provided in numeric format. We need to transform text-based data into categorical data (using either ordered numeric columns or binary variable columns generated from our categories), and ensure that all data is represented in the way that we want to use it within our model."
      ]
    },
    {
      "cell_type": "markdown",
      "metadata": {
        "id": "r3uFaZvlT2Jj"
      },
      "source": [
        "### Regression Equations\n",
        "\n",
        "`statsmodels` incorporates `R`-style regression equations by using the `patsy` library behind the scenes. We will talk more about `patsy` soon. The pattern for regression equations is as follows:\n",
        "\n",
        "```\"dependent variable ~ independent variable + another independent variable + any other independent variables\"```\n",
        "\n",
        "The regression equation will be stored in a string (unlike in `R`), and we put our dependent variable (also called the endogenous variable, or outcome of interest) in the leftmost position within the string. We separate the dependent variable from all independent (exogenous or explanatory) variables using the `~` symbol. Then, each independent variable is separated from the others using `+` operators.\n",
        "\n",
        "The reason is is so important that our column names be properly cleaned before implementing regression analysis is that spaces and other problematic formats for column names will cause problems with our regression equations.\n",
        "\n",
        "### Implementing a Model\n",
        "\n",
        "The first model we might try is a simple linear regression. These are the most common regression models, and typically what someone is referring to when they discuss \"running a regression\". The code is wonderfully simple:"
      ]
    },
    {
      "cell_type": "code",
      "execution_count": null,
      "metadata": {
        "colab": {
          "base_uri": "https://localhost:8080/"
        },
        "id": "jt3IBUrBT2Jj",
        "outputId": "b3c6680d-e6f3-4936-9a53-4f5841d33dcc"
      },
      "outputs": [
        {
          "output_type": "stream",
          "name": "stdout",
          "text": [
            "                            OLS Regression Results                            \n",
            "==============================================================================\n",
            "Dep. Variable:               hhincome   R-squared:                      -0.000\n",
            "Model:                            OLS   Adj. R-squared:                 -0.000\n",
            "Method:                 Least Squares   F-statistic:                       nan\n",
            "Date:                Mon, 18 Nov 2024   Prob (F-statistic):                nan\n",
            "Time:                        03:34:38   Log-Likelihood:            -1.7131e+05\n",
            "No. Observations:               13712   AIC:                         3.426e+05\n",
            "Df Residuals:                   13711   BIC:                         3.426e+05\n",
            "Df Model:                           0                                         \n",
            "Covariance Type:            nonrobust                                         \n",
            "==============================================================================\n",
            "                 coef    std err          t      P>|t|      [0.025      0.975]\n",
            "------------------------------------------------------------------------------\n",
            "Intercept      0.0188      0.000    138.414      0.000       0.019       0.019\n",
            "year          37.8564      0.274    138.414      0.000      37.320      38.392\n",
            "==============================================================================\n",
            "Omnibus:                     9819.620   Durbin-Watson:                   1.027\n",
            "Prob(Omnibus):                  0.000   Jarque-Bera (JB):           250725.793\n",
            "Skew:                           3.151   Prob(JB):                         0.00\n",
            "Kurtosis:                      22.978   Cond. No.                     9.31e+17\n",
            "==============================================================================\n",
            "\n",
            "Notes:\n",
            "[1] Standard Errors assume that the covariance matrix of the errors is correctly specified.\n",
            "[2] The smallest eigenvalue is 6.41e-26. This might indicate that there are\n",
            "strong multicollinearity problems or that the design matrix is singular.\n"
          ]
        }
      ],
      "source": [
        "reg = smf.ols(\"hhincome ~ year\", data=data).fit()\n",
        "print(reg.summary())"
      ]
    },
    {
      "cell_type": "markdown",
      "metadata": {
        "id": "GZMXzc1xT2Jj"
      },
      "source": [
        "                                OLS Regression Results                            \n",
        "    ==============================================================================\n",
        "    Dep. Variable:               hhincome   R-squared:                      -0.000\n",
        "    Model:                            OLS   Adj. R-squared:                 -0.000\n",
        "    Method:                 Least Squares   F-statistic:                      -inf\n",
        "    Date:                Wed, 16 Mar 2022   Prob (F-statistic):                nan\n",
        "    Time:                        15:24:28   Log-Likelihood:            -1.7131e+05\n",
        "    No. Observations:               13712   AIC:                         3.426e+05\n",
        "    Df Residuals:                   13711   BIC:                         3.426e+05\n",
        "    Df Model:                           0                                         \n",
        "    Covariance Type:            nonrobust                                         \n",
        "    ==============================================================================\n",
        "                     coef    std err          t      P>|t|      [0.025      0.975]\n",
        "    ------------------------------------------------------------------------------\n",
        "    Intercept      0.0188      0.000    138.414      0.000       0.019       0.019\n",
        "    year          37.8564      0.274    138.414      0.000      37.320      38.392\n",
        "    ==============================================================================\n",
        "    Omnibus:                     9819.620   Durbin-Watson:                   1.027\n",
        "    Prob(Omnibus):                  0.000   Jarque-Bera (JB):           250725.793\n",
        "    Skew:                           3.151   Prob(JB):                         0.00\n",
        "    Kurtosis:                      22.978   Cond. No.                     9.31e+17\n",
        "    ==============================================================================\n",
        "    \n",
        "    Warnings:\n",
        "    [1] Standard Errors assume that the covariance matrix of the errors is correctly specified.\n",
        "    [2] The smallest eigenvalue is 6.41e-26. This might indicate that there are\n",
        "    strong multicollinearity problems or that the design matrix is singular.\n",
        "\n",
        "\n",
        "    /opt/conda/lib/python3.7/site-packages/statsmodels/regression/linear_model.py:1657: RuntimeWarning: divide by zero encountered in double_scalars\n",
        "      return self.ess/self.df_model\n",
        "\n",
        "\n",
        "When we run these two lines of code, we are creating, fitting, and reporting on a regression model! It's fast, it's clean, and it's really easy to implement! `sm.ols` is the OLS class of regression models, and takes two required arguments: a regression equation (passed as a string), and a data source (expected to be a `pandas.DataFrame` object). We use the `.fit()` method to complete all of the math that actually solves our regression model. When we call `.summary()` on a fitted regression, we get a printout of the regression summary tables for the model, complete with diagnostic measures, estimates of our beta coefficients, and confidence intervals!\n",
        "\n",
        "If the model is satisfactory, then we are done! (It really is that simple!)"
      ]
    },
    {
      "cell_type": "markdown",
      "metadata": {
        "id": "h-wegnx9T2Jk"
      },
      "source": [
        "If I want to keep iterating on my model, I might want to try regressing year on the logged average household incomes:"
      ]
    },
    {
      "cell_type": "code",
      "execution_count": null,
      "metadata": {
        "colab": {
          "base_uri": "https://localhost:8080/"
        },
        "id": "Mz0iRqRMT2Jk",
        "outputId": "a3595df8-ec4a-497c-e851-76bc22dcfeaa"
      },
      "outputs": [
        {
          "output_type": "stream",
          "name": "stdout",
          "text": [
            "                            OLS Regression Results                            \n",
            "==============================================================================\n",
            "Dep. Variable:       np.log(hhincome)   R-squared:                      -0.000\n",
            "Model:                            OLS   Adj. R-squared:                 -0.000\n",
            "Method:                 Least Squares   F-statistic:                       nan\n",
            "Date:                Mon, 18 Nov 2024   Prob (F-statistic):                nan\n",
            "Time:                        03:34:45   Log-Likelihood:                -17363.\n",
            "No. Observations:               13653   AIC:                         3.473e+04\n",
            "Df Residuals:                   13652   BIC:                         3.474e+04\n",
            "Df Model:                           0                                         \n",
            "Covariance Type:            nonrobust                                         \n",
            "==============================================================================\n",
            "                 coef    std err          t      P>|t|      [0.025      0.975]\n",
            "------------------------------------------------------------------------------\n",
            "Intercept   2.698e-06   1.82e-09   1481.190      0.000    2.69e-06     2.7e-06\n",
            "year           0.0054   3.67e-06   1481.190      0.000       0.005       0.005\n",
            "==============================================================================\n",
            "Omnibus:                     5172.537   Durbin-Watson:                   1.277\n",
            "Prob(Omnibus):                  0.000   Jarque-Bera (JB):            63678.616\n",
            "Skew:                          -1.469   Prob(JB):                         0.00\n",
            "Kurtosis:                      13.164   Cond. No.                     8.12e+17\n",
            "==============================================================================\n",
            "\n",
            "Notes:\n",
            "[1] Standard Errors assume that the covariance matrix of the errors is correctly specified.\n",
            "[2] The smallest eigenvalue is 8.4e-26. This might indicate that there are\n",
            "strong multicollinearity problems or that the design matrix is singular.\n"
          ]
        }
      ],
      "source": [
        "reg = smf.ols(\"np.log(hhincome) ~ year\", data=data[data['hhincome']>0]).fit()\n",
        "print(reg.summary())"
      ]
    },
    {
      "cell_type": "markdown",
      "metadata": {
        "id": "Lj6MbmJfT2Jk"
      },
      "source": [
        "                                OLS Regression Results                            \n",
        "    ==============================================================================\n",
        "    Dep. Variable:       np.log(hhincome)   R-squared:                      -0.000\n",
        "    Model:                            OLS   Adj. R-squared:                 -0.000\n",
        "    Method:                 Least Squares   F-statistic:                      -inf\n",
        "    Date:                Wed, 16 Mar 2022   Prob (F-statistic):                nan\n",
        "    Time:                        15:31:18   Log-Likelihood:                -17363.\n",
        "    No. Observations:               13653   AIC:                         3.473e+04\n",
        "    Df Residuals:                   13652   BIC:                         3.474e+04\n",
        "    Df Model:                           0                                         \n",
        "    Covariance Type:            nonrobust                                         \n",
        "    ==============================================================================\n",
        "                     coef    std err          t      P>|t|      [0.025      0.975]\n",
        "    ------------------------------------------------------------------------------\n",
        "    Intercept   2.698e-06   1.82e-09   1481.190      0.000    2.69e-06     2.7e-06\n",
        "    year           0.0054   3.67e-06   1481.190      0.000       0.005       0.005\n",
        "    ==============================================================================\n",
        "    Omnibus:                     5172.537   Durbin-Watson:                   1.277\n",
        "    Prob(Omnibus):                  0.000   Jarque-Bera (JB):            63678.616\n",
        "    Skew:                          -1.469   Prob(JB):                         0.00\n",
        "    Kurtosis:                      13.164   Cond. No.                     8.12e+17\n",
        "    ==============================================================================\n",
        "    \n",
        "    Warnings:\n",
        "    [1] Standard Errors assume that the covariance matrix of the errors is correctly specified.\n",
        "    [2] The smallest eigenvalue is 8.4e-26. This might indicate that there are\n",
        "    strong multicollinearity problems or that the design matrix is singular.\n",
        "\n",
        "\n",
        "    /opt/conda/lib/python3.7/site-packages/statsmodels/regression/linear_model.py:1657: RuntimeWarning: divide by zero encountered in double_scalars\n",
        "      return self.ess/self.df_model\n",
        "\n",
        "\n",
        "As you can see from the code above, everything is the same, except that we were able to transform household income using `np.log` on the go! We don't even need to create a new column! We can just do it inside of our regression model! We also subset our data so that the log operator doesn't break our model by introducing $-\\infty$ as a possible `hhincome` value.\n",
        "\n",
        "In other cases, it might be useful to create state-level fixed effects by including dummy variables for the states in our `statefip` column. Note that this won't work with our current data, since we only have one state in our data set."
      ]
    },
    {
      "cell_type": "code",
      "execution_count": null,
      "metadata": {
        "colab": {
          "base_uri": "https://localhost:8080/"
        },
        "id": "xflkLo28T2Jk",
        "outputId": "d1939674-29d5-49b4-efc8-77bb58d34afa"
      },
      "outputs": [
        {
          "output_type": "stream",
          "name": "stdout",
          "text": [
            "                            OLS Regression Results                            \n",
            "==============================================================================\n",
            "Dep. Variable:       np.log(hhincome)   R-squared:                      -0.000\n",
            "Model:                            OLS   Adj. R-squared:                 -0.000\n",
            "Method:                 Least Squares   F-statistic:                       nan\n",
            "Date:                Mon, 18 Nov 2024   Prob (F-statistic):                nan\n",
            "Time:                        03:35:36   Log-Likelihood:                -17363.\n",
            "No. Observations:               13653   AIC:                         3.473e+04\n",
            "Df Residuals:                   13652   BIC:                         3.474e+04\n",
            "Df Model:                           0                                         \n",
            "Covariance Type:            nonrobust                                         \n",
            "==============================================================================\n",
            "                 coef    std err          t      P>|t|      [0.025      0.975]\n",
            "------------------------------------------------------------------------------\n",
            "Intercept   2.698e-06   1.82e-09   1481.190      0.000    2.69e-06     2.7e-06\n",
            "year           0.0054   3.67e-06   1481.190      0.000       0.005       0.005\n",
            "==============================================================================\n",
            "Omnibus:                     5172.537   Durbin-Watson:                   1.277\n",
            "Prob(Omnibus):                  0.000   Jarque-Bera (JB):            63678.616\n",
            "Skew:                          -1.469   Prob(JB):                         0.00\n",
            "Kurtosis:                      13.164   Cond. No.                     8.12e+17\n",
            "==============================================================================\n",
            "\n",
            "Notes:\n",
            "[1] Standard Errors assume that the covariance matrix of the errors is correctly specified.\n",
            "[2] The smallest eigenvalue is 8.4e-26. This might indicate that there are\n",
            "strong multicollinearity problems or that the design matrix is singular.\n"
          ]
        }
      ],
      "source": [
        "reg = smf.ols(\"np.log(hhincome) ~ year + C(statefip)\", data=data[data['hhincome']>0]).fit()\n",
        "print(reg.summary())"
      ]
    },
    {
      "cell_type": "markdown",
      "metadata": {
        "id": "kWH0F9psT2Jk"
      },
      "source": [
        "                                OLS Regression Results                            \n",
        "    ==============================================================================\n",
        "    Dep. Variable:       np.log(hhincome)   R-squared:                      -0.000\n",
        "    Model:                            OLS   Adj. R-squared:                 -0.000\n",
        "    Method:                 Least Squares   F-statistic:                      -inf\n",
        "    Date:                Wed, 16 Mar 2022   Prob (F-statistic):                nan\n",
        "    Time:                        15:32:19   Log-Likelihood:                -17363.\n",
        "    No. Observations:               13653   AIC:                         3.473e+04\n",
        "    Df Residuals:                   13652   BIC:                         3.474e+04\n",
        "    Df Model:                           0                                         \n",
        "    Covariance Type:            nonrobust                                         \n",
        "    ==============================================================================\n",
        "                     coef    std err          t      P>|t|      [0.025      0.975]\n",
        "    ------------------------------------------------------------------------------\n",
        "    Intercept   2.698e-06   1.82e-09   1481.190      0.000    2.69e-06     2.7e-06\n",
        "    year           0.0054   3.67e-06   1481.190      0.000       0.005       0.005\n",
        "    ==============================================================================\n",
        "    Omnibus:                     5172.537   Durbin-Watson:                   1.277\n",
        "    Prob(Omnibus):                  0.000   Jarque-Bera (JB):            63678.616\n",
        "    Skew:                          -1.469   Prob(JB):                         0.00\n",
        "    Kurtosis:                      13.164   Cond. No.                     8.12e+17\n",
        "    ==============================================================================\n",
        "    \n",
        "    Warnings:\n",
        "    [1] Standard Errors assume that the covariance matrix of the errors is correctly specified.\n",
        "    [2] The smallest eigenvalue is 8.4e-26. This might indicate that there are\n",
        "    strong multicollinearity problems or that the design matrix is singular.\n",
        "\n",
        "\n",
        "    /opt/conda/lib/python3.7/site-packages/statsmodels/regression/linear_model.py:1657: RuntimeWarning: divide by zero encountered in double_scalars\n",
        "      return self.ess/self.df_model\n",
        "\n",
        "\n",
        "The `C()` command indicates that we would like to consider the `statefip` variable as a **C**ategorical variable, not a numeric variable. We can transform ANY column using the categorical operator. It is most useful when a column is text-based, or when a column is numeric but should not be treated as a count, ordinal, or continuous variable. We CAN use it on our dependent variable, but this will (unless our dependent variable was binary text data) break our regression model, which expects only a single dependent variable, rather than an array of dependent variables.\n",
        "\n",
        "Sometimes we want to include transformed variables in our model without creating a new column. The `I()` operator allows us to do just that:"
      ]
    },
    {
      "cell_type": "code",
      "execution_count": null,
      "metadata": {
        "colab": {
          "base_uri": "https://localhost:8080/"
        },
        "id": "1CKBG81MT2Jk",
        "outputId": "3c9cf70b-0968-4175-ceca-18c73ec5bfd3"
      },
      "outputs": [
        {
          "output_type": "stream",
          "name": "stderr",
          "text": [
            "/usr/local/lib/python3.10/dist-packages/pandas/core/arraylike.py:399: RuntimeWarning: divide by zero encountered in log\n",
            "  result = getattr(ufunc, method)(*inputs, **kwargs)\n",
            "/usr/local/lib/python3.10/dist-packages/pandas/core/arraylike.py:399: RuntimeWarning: invalid value encountered in log\n",
            "  result = getattr(ufunc, method)(*inputs, **kwargs)\n"
          ]
        }
      ],
      "source": [
        "# Square a variable using the I() function for\n",
        "#   mathematical transformations\n",
        "reg = smf.ols(\"np.log(hhincome) ~ age + I(age**2)\", data=data).fit()"
      ]
    },
    {
      "cell_type": "markdown",
      "metadata": {
        "id": "OVRT8EjUT2Jk"
      },
      "source": [
        "In this case, we transform `age` by squaring it (maybe in preparation to create an age-earnings profile?). One line, simple syntax, what could be better?"
      ]
    },
    {
      "cell_type": "code",
      "execution_count": null,
      "metadata": {
        "colab": {
          "base_uri": "https://localhost:8080/",
          "height": 512
        },
        "id": "nDqkOWJHT2Jl",
        "outputId": "6cd61455-bcf7-4218-c025-a54e861bd8c2"
      },
      "outputs": [
        {
          "output_type": "stream",
          "name": "stderr",
          "text": [
            "/usr/local/lib/python3.10/dist-packages/pandas/core/arraylike.py:399: RuntimeWarning: divide by zero encountered in log\n",
            "  result = getattr(ufunc, method)(*inputs, **kwargs)\n",
            "/usr/local/lib/python3.10/dist-packages/pandas/core/arraylike.py:399: RuntimeWarning: invalid value encountered in log\n",
            "  result = getattr(ufunc, method)(*inputs, **kwargs)\n"
          ]
        },
        {
          "output_type": "error",
          "ename": "PatsyError",
          "evalue": "Error evaluating factor: NameError: name 'education' is not defined\n    np.log(hhincome) ~ I(age-education-5)\n                       ^^^^^^^^^^^^^^^^^^",
          "traceback": [
            "\u001b[0;31m---------------------------------------------------------------------------\u001b[0m",
            "\u001b[0;31mNameError\u001b[0m                                 Traceback (most recent call last)",
            "\u001b[0;32m/usr/local/lib/python3.10/dist-packages/patsy/compat.py\u001b[0m in \u001b[0;36mcall_and_wrap_exc\u001b[0;34m(msg, origin, f, *args, **kwargs)\u001b[0m\n\u001b[1;32m     39\u001b[0m     \u001b[0;32mtry\u001b[0m\u001b[0;34m:\u001b[0m\u001b[0;34m\u001b[0m\u001b[0;34m\u001b[0m\u001b[0m\n\u001b[0;32m---> 40\u001b[0;31m         \u001b[0;32mreturn\u001b[0m \u001b[0mf\u001b[0m\u001b[0;34m(\u001b[0m\u001b[0;34m*\u001b[0m\u001b[0margs\u001b[0m\u001b[0;34m,\u001b[0m \u001b[0;34m**\u001b[0m\u001b[0mkwargs\u001b[0m\u001b[0;34m)\u001b[0m\u001b[0;34m\u001b[0m\u001b[0;34m\u001b[0m\u001b[0m\n\u001b[0m\u001b[1;32m     41\u001b[0m     \u001b[0;32mexcept\u001b[0m \u001b[0mException\u001b[0m \u001b[0;32mas\u001b[0m \u001b[0me\u001b[0m\u001b[0;34m:\u001b[0m\u001b[0;34m\u001b[0m\u001b[0;34m\u001b[0m\u001b[0m\n",
            "\u001b[0;32m/usr/local/lib/python3.10/dist-packages/patsy/eval.py\u001b[0m in \u001b[0;36meval\u001b[0;34m(self, expr, source_name, inner_namespace)\u001b[0m\n\u001b[1;32m    178\u001b[0m         \u001b[0mcode\u001b[0m \u001b[0;34m=\u001b[0m \u001b[0mcompile\u001b[0m\u001b[0;34m(\u001b[0m\u001b[0mexpr\u001b[0m\u001b[0;34m,\u001b[0m \u001b[0msource_name\u001b[0m\u001b[0;34m,\u001b[0m \u001b[0;34m\"eval\"\u001b[0m\u001b[0;34m,\u001b[0m \u001b[0mself\u001b[0m\u001b[0;34m.\u001b[0m\u001b[0mflags\u001b[0m\u001b[0;34m,\u001b[0m \u001b[0;32mFalse\u001b[0m\u001b[0;34m)\u001b[0m\u001b[0;34m\u001b[0m\u001b[0;34m\u001b[0m\u001b[0m\n\u001b[0;32m--> 179\u001b[0;31m         \u001b[0;32mreturn\u001b[0m \u001b[0meval\u001b[0m\u001b[0;34m(\u001b[0m\u001b[0mcode\u001b[0m\u001b[0;34m,\u001b[0m \u001b[0;34m{\u001b[0m\u001b[0;34m}\u001b[0m\u001b[0;34m,\u001b[0m \u001b[0mVarLookupDict\u001b[0m\u001b[0;34m(\u001b[0m\u001b[0;34m[\u001b[0m\u001b[0minner_namespace\u001b[0m\u001b[0;34m]\u001b[0m \u001b[0;34m+\u001b[0m \u001b[0mself\u001b[0m\u001b[0;34m.\u001b[0m\u001b[0m_namespaces\u001b[0m\u001b[0;34m)\u001b[0m\u001b[0;34m)\u001b[0m\u001b[0;34m\u001b[0m\u001b[0;34m\u001b[0m\u001b[0m\n\u001b[0m\u001b[1;32m    180\u001b[0m \u001b[0;34m\u001b[0m\u001b[0m\n",
            "\u001b[0;32m<string>\u001b[0m in \u001b[0;36m<module>\u001b[0;34m\u001b[0m\n",
            "\u001b[0;31mNameError\u001b[0m: name 'education' is not defined",
            "\nThe above exception was the direct cause of the following exception:\n",
            "\u001b[0;31mPatsyError\u001b[0m                                Traceback (most recent call last)",
            "\u001b[0;32m<ipython-input-9-b54c938fc98a>\u001b[0m in \u001b[0;36m<cell line: 3>\u001b[0;34m()\u001b[0m\n\u001b[1;32m      1\u001b[0m \u001b[0;31m# Combine variables using the I() function for\u001b[0m\u001b[0;34m\u001b[0m\u001b[0;34m\u001b[0m\u001b[0m\n\u001b[1;32m      2\u001b[0m \u001b[0;31m#   mathematical transformations\u001b[0m\u001b[0;34m\u001b[0m\u001b[0;34m\u001b[0m\u001b[0m\n\u001b[0;32m----> 3\u001b[0;31m \u001b[0mreg\u001b[0m \u001b[0;34m=\u001b[0m \u001b[0msmf\u001b[0m\u001b[0;34m.\u001b[0m\u001b[0mols\u001b[0m\u001b[0;34m(\u001b[0m\u001b[0;34m\"np.log(hhincome) ~ I(age-education-5)\"\u001b[0m\u001b[0;34m,\u001b[0m \u001b[0mdata\u001b[0m\u001b[0;34m=\u001b[0m\u001b[0mdata\u001b[0m\u001b[0;34m)\u001b[0m\u001b[0;34m.\u001b[0m\u001b[0mfit\u001b[0m\u001b[0;34m(\u001b[0m\u001b[0;34m)\u001b[0m\u001b[0;34m\u001b[0m\u001b[0;34m\u001b[0m\u001b[0m\n\u001b[0m",
            "\u001b[0;32m/usr/local/lib/python3.10/dist-packages/statsmodels/base/model.py\u001b[0m in \u001b[0;36mfrom_formula\u001b[0;34m(cls, formula, data, subset, drop_cols, *args, **kwargs)\u001b[0m\n\u001b[1;32m    201\u001b[0m             \u001b[0mmissing\u001b[0m \u001b[0;34m=\u001b[0m \u001b[0;34m'raise'\u001b[0m\u001b[0;34m\u001b[0m\u001b[0;34m\u001b[0m\u001b[0m\n\u001b[1;32m    202\u001b[0m \u001b[0;34m\u001b[0m\u001b[0m\n\u001b[0;32m--> 203\u001b[0;31m         tmp = handle_formula_data(data, None, formula, depth=eval_env,\n\u001b[0m\u001b[1;32m    204\u001b[0m                                   missing=missing)\n\u001b[1;32m    205\u001b[0m         \u001b[0;34m(\u001b[0m\u001b[0;34m(\u001b[0m\u001b[0mendog\u001b[0m\u001b[0;34m,\u001b[0m \u001b[0mexog\u001b[0m\u001b[0;34m)\u001b[0m\u001b[0;34m,\u001b[0m \u001b[0mmissing_idx\u001b[0m\u001b[0;34m,\u001b[0m \u001b[0mdesign_info\u001b[0m\u001b[0;34m)\u001b[0m \u001b[0;34m=\u001b[0m \u001b[0mtmp\u001b[0m\u001b[0;34m\u001b[0m\u001b[0;34m\u001b[0m\u001b[0m\n",
            "\u001b[0;32m/usr/local/lib/python3.10/dist-packages/statsmodels/formula/formulatools.py\u001b[0m in \u001b[0;36mhandle_formula_data\u001b[0;34m(Y, X, formula, depth, missing)\u001b[0m\n\u001b[1;32m     61\u001b[0m     \u001b[0;32melse\u001b[0m\u001b[0;34m:\u001b[0m\u001b[0;34m\u001b[0m\u001b[0;34m\u001b[0m\u001b[0m\n\u001b[1;32m     62\u001b[0m         \u001b[0;32mif\u001b[0m \u001b[0mdata_util\u001b[0m\u001b[0;34m.\u001b[0m\u001b[0m_is_using_pandas\u001b[0m\u001b[0;34m(\u001b[0m\u001b[0mY\u001b[0m\u001b[0;34m,\u001b[0m \u001b[0;32mNone\u001b[0m\u001b[0;34m)\u001b[0m\u001b[0;34m:\u001b[0m\u001b[0;34m\u001b[0m\u001b[0;34m\u001b[0m\u001b[0m\n\u001b[0;32m---> 63\u001b[0;31m             result = dmatrices(formula, Y, depth, return_type='dataframe',\n\u001b[0m\u001b[1;32m     64\u001b[0m                                NA_action=na_action)\n\u001b[1;32m     65\u001b[0m         \u001b[0;32melse\u001b[0m\u001b[0;34m:\u001b[0m\u001b[0;34m\u001b[0m\u001b[0;34m\u001b[0m\u001b[0m\n",
            "\u001b[0;32m/usr/local/lib/python3.10/dist-packages/patsy/highlevel.py\u001b[0m in \u001b[0;36mdmatrices\u001b[0;34m(formula_like, data, eval_env, NA_action, return_type)\u001b[0m\n\u001b[1;32m    317\u001b[0m     \"\"\"\n\u001b[1;32m    318\u001b[0m     \u001b[0meval_env\u001b[0m \u001b[0;34m=\u001b[0m \u001b[0mEvalEnvironment\u001b[0m\u001b[0;34m.\u001b[0m\u001b[0mcapture\u001b[0m\u001b[0;34m(\u001b[0m\u001b[0meval_env\u001b[0m\u001b[0;34m,\u001b[0m \u001b[0mreference\u001b[0m\u001b[0;34m=\u001b[0m\u001b[0;36m1\u001b[0m\u001b[0;34m)\u001b[0m\u001b[0;34m\u001b[0m\u001b[0;34m\u001b[0m\u001b[0m\n\u001b[0;32m--> 319\u001b[0;31m     (lhs, rhs) = _do_highlevel_design(\n\u001b[0m\u001b[1;32m    320\u001b[0m         \u001b[0mformula_like\u001b[0m\u001b[0;34m,\u001b[0m \u001b[0mdata\u001b[0m\u001b[0;34m,\u001b[0m \u001b[0meval_env\u001b[0m\u001b[0;34m,\u001b[0m \u001b[0mNA_action\u001b[0m\u001b[0;34m,\u001b[0m \u001b[0mreturn_type\u001b[0m\u001b[0;34m\u001b[0m\u001b[0;34m\u001b[0m\u001b[0m\n\u001b[1;32m    321\u001b[0m     )\n",
            "\u001b[0;32m/usr/local/lib/python3.10/dist-packages/patsy/highlevel.py\u001b[0m in \u001b[0;36m_do_highlevel_design\u001b[0;34m(formula_like, data, eval_env, NA_action, return_type)\u001b[0m\n\u001b[1;32m    162\u001b[0m         \u001b[0;32mreturn\u001b[0m \u001b[0miter\u001b[0m\u001b[0;34m(\u001b[0m\u001b[0;34m[\u001b[0m\u001b[0mdata\u001b[0m\u001b[0;34m]\u001b[0m\u001b[0;34m)\u001b[0m\u001b[0;34m\u001b[0m\u001b[0;34m\u001b[0m\u001b[0m\n\u001b[1;32m    163\u001b[0m \u001b[0;34m\u001b[0m\u001b[0m\n\u001b[0;32m--> 164\u001b[0;31m     design_infos = _try_incr_builders(\n\u001b[0m\u001b[1;32m    165\u001b[0m         \u001b[0mformula_like\u001b[0m\u001b[0;34m,\u001b[0m \u001b[0mdata_iter_maker\u001b[0m\u001b[0;34m,\u001b[0m \u001b[0meval_env\u001b[0m\u001b[0;34m,\u001b[0m \u001b[0mNA_action\u001b[0m\u001b[0;34m\u001b[0m\u001b[0;34m\u001b[0m\u001b[0m\n\u001b[1;32m    166\u001b[0m     )\n",
            "\u001b[0;32m/usr/local/lib/python3.10/dist-packages/patsy/highlevel.py\u001b[0m in \u001b[0;36m_try_incr_builders\u001b[0;34m(formula_like, data_iter_maker, eval_env, NA_action)\u001b[0m\n\u001b[1;32m     54\u001b[0m     \u001b[0;32mif\u001b[0m \u001b[0misinstance\u001b[0m\u001b[0;34m(\u001b[0m\u001b[0mformula_like\u001b[0m\u001b[0;34m,\u001b[0m \u001b[0mModelDesc\u001b[0m\u001b[0;34m)\u001b[0m\u001b[0;34m:\u001b[0m\u001b[0;34m\u001b[0m\u001b[0;34m\u001b[0m\u001b[0m\n\u001b[1;32m     55\u001b[0m         \u001b[0;32massert\u001b[0m \u001b[0misinstance\u001b[0m\u001b[0;34m(\u001b[0m\u001b[0meval_env\u001b[0m\u001b[0;34m,\u001b[0m \u001b[0mEvalEnvironment\u001b[0m\u001b[0;34m)\u001b[0m\u001b[0;34m\u001b[0m\u001b[0;34m\u001b[0m\u001b[0m\n\u001b[0;32m---> 56\u001b[0;31m         return design_matrix_builders(\n\u001b[0m\u001b[1;32m     57\u001b[0m             \u001b[0;34m[\u001b[0m\u001b[0mformula_like\u001b[0m\u001b[0;34m.\u001b[0m\u001b[0mlhs_termlist\u001b[0m\u001b[0;34m,\u001b[0m \u001b[0mformula_like\u001b[0m\u001b[0;34m.\u001b[0m\u001b[0mrhs_termlist\u001b[0m\u001b[0;34m]\u001b[0m\u001b[0;34m,\u001b[0m\u001b[0;34m\u001b[0m\u001b[0;34m\u001b[0m\u001b[0m\n\u001b[1;32m     58\u001b[0m             \u001b[0mdata_iter_maker\u001b[0m\u001b[0;34m,\u001b[0m\u001b[0;34m\u001b[0m\u001b[0;34m\u001b[0m\u001b[0m\n",
            "\u001b[0;32m/usr/local/lib/python3.10/dist-packages/patsy/build.py\u001b[0m in \u001b[0;36mdesign_matrix_builders\u001b[0;34m(termlists, data_iter_maker, eval_env, NA_action)\u001b[0m\n\u001b[1;32m    744\u001b[0m     \u001b[0;31m# Now all the factors have working eval methods, so we can evaluate them\u001b[0m\u001b[0;34m\u001b[0m\u001b[0;34m\u001b[0m\u001b[0m\n\u001b[1;32m    745\u001b[0m     \u001b[0;31m# on some data to find out what type of data they return.\u001b[0m\u001b[0;34m\u001b[0m\u001b[0;34m\u001b[0m\u001b[0m\n\u001b[0;32m--> 746\u001b[0;31m     (num_column_counts, cat_levels_contrasts) = _examine_factor_types(\n\u001b[0m\u001b[1;32m    747\u001b[0m         \u001b[0mall_factors\u001b[0m\u001b[0;34m,\u001b[0m \u001b[0mfactor_states\u001b[0m\u001b[0;34m,\u001b[0m \u001b[0mdata_iter_maker\u001b[0m\u001b[0;34m,\u001b[0m \u001b[0mNA_action\u001b[0m\u001b[0;34m\u001b[0m\u001b[0;34m\u001b[0m\u001b[0m\n\u001b[1;32m    748\u001b[0m     )\n",
            "\u001b[0;32m/usr/local/lib/python3.10/dist-packages/patsy/build.py\u001b[0m in \u001b[0;36m_examine_factor_types\u001b[0;34m(factors, factor_states, data_iter_maker, NA_action)\u001b[0m\n\u001b[1;32m    489\u001b[0m     \u001b[0;32mfor\u001b[0m \u001b[0mdata\u001b[0m \u001b[0;32min\u001b[0m \u001b[0mdata_iter_maker\u001b[0m\u001b[0;34m(\u001b[0m\u001b[0;34m)\u001b[0m\u001b[0;34m:\u001b[0m\u001b[0;34m\u001b[0m\u001b[0;34m\u001b[0m\u001b[0m\n\u001b[1;32m    490\u001b[0m         \u001b[0;32mfor\u001b[0m \u001b[0mfactor\u001b[0m \u001b[0;32min\u001b[0m \u001b[0mlist\u001b[0m\u001b[0;34m(\u001b[0m\u001b[0mexamine_needed\u001b[0m\u001b[0;34m)\u001b[0m\u001b[0;34m:\u001b[0m\u001b[0;34m\u001b[0m\u001b[0;34m\u001b[0m\u001b[0m\n\u001b[0;32m--> 491\u001b[0;31m             \u001b[0mvalue\u001b[0m \u001b[0;34m=\u001b[0m \u001b[0mfactor\u001b[0m\u001b[0;34m.\u001b[0m\u001b[0meval\u001b[0m\u001b[0;34m(\u001b[0m\u001b[0mfactor_states\u001b[0m\u001b[0;34m[\u001b[0m\u001b[0mfactor\u001b[0m\u001b[0;34m]\u001b[0m\u001b[0;34m,\u001b[0m \u001b[0mdata\u001b[0m\u001b[0;34m)\u001b[0m\u001b[0;34m\u001b[0m\u001b[0;34m\u001b[0m\u001b[0m\n\u001b[0m\u001b[1;32m    492\u001b[0m             \u001b[0;32mif\u001b[0m \u001b[0mfactor\u001b[0m \u001b[0;32min\u001b[0m \u001b[0mcat_sniffers\u001b[0m \u001b[0;32mor\u001b[0m \u001b[0mguess_categorical\u001b[0m\u001b[0;34m(\u001b[0m\u001b[0mvalue\u001b[0m\u001b[0;34m)\u001b[0m\u001b[0;34m:\u001b[0m\u001b[0;34m\u001b[0m\u001b[0;34m\u001b[0m\u001b[0m\n\u001b[1;32m    493\u001b[0m                 \u001b[0;32mif\u001b[0m \u001b[0mfactor\u001b[0m \u001b[0;32mnot\u001b[0m \u001b[0;32min\u001b[0m \u001b[0mcat_sniffers\u001b[0m\u001b[0;34m:\u001b[0m\u001b[0;34m\u001b[0m\u001b[0;34m\u001b[0m\u001b[0m\n",
            "\u001b[0;32m/usr/local/lib/python3.10/dist-packages/patsy/eval.py\u001b[0m in \u001b[0;36meval\u001b[0;34m(self, memorize_state, data)\u001b[0m\n\u001b[1;32m    597\u001b[0m \u001b[0;34m\u001b[0m\u001b[0m\n\u001b[1;32m    598\u001b[0m     \u001b[0;32mdef\u001b[0m \u001b[0meval\u001b[0m\u001b[0;34m(\u001b[0m\u001b[0mself\u001b[0m\u001b[0;34m,\u001b[0m \u001b[0mmemorize_state\u001b[0m\u001b[0;34m,\u001b[0m \u001b[0mdata\u001b[0m\u001b[0;34m)\u001b[0m\u001b[0;34m:\u001b[0m\u001b[0;34m\u001b[0m\u001b[0;34m\u001b[0m\u001b[0m\n\u001b[0;32m--> 599\u001b[0;31m         \u001b[0;32mreturn\u001b[0m \u001b[0mself\u001b[0m\u001b[0;34m.\u001b[0m\u001b[0m_eval\u001b[0m\u001b[0;34m(\u001b[0m\u001b[0mmemorize_state\u001b[0m\u001b[0;34m[\u001b[0m\u001b[0;34m\"eval_code\"\u001b[0m\u001b[0;34m]\u001b[0m\u001b[0;34m,\u001b[0m \u001b[0mmemorize_state\u001b[0m\u001b[0;34m,\u001b[0m \u001b[0mdata\u001b[0m\u001b[0;34m)\u001b[0m\u001b[0;34m\u001b[0m\u001b[0;34m\u001b[0m\u001b[0m\n\u001b[0m\u001b[1;32m    600\u001b[0m \u001b[0;34m\u001b[0m\u001b[0m\n\u001b[1;32m    601\u001b[0m     \u001b[0m__getstate__\u001b[0m \u001b[0;34m=\u001b[0m \u001b[0mno_pickling\u001b[0m\u001b[0;34m\u001b[0m\u001b[0;34m\u001b[0m\u001b[0m\n",
            "\u001b[0;32m/usr/local/lib/python3.10/dist-packages/patsy/eval.py\u001b[0m in \u001b[0;36m_eval\u001b[0;34m(self, code, memorize_state, data)\u001b[0m\n\u001b[1;32m    580\u001b[0m     \u001b[0;32mdef\u001b[0m \u001b[0m_eval\u001b[0m\u001b[0;34m(\u001b[0m\u001b[0mself\u001b[0m\u001b[0;34m,\u001b[0m \u001b[0mcode\u001b[0m\u001b[0;34m,\u001b[0m \u001b[0mmemorize_state\u001b[0m\u001b[0;34m,\u001b[0m \u001b[0mdata\u001b[0m\u001b[0;34m)\u001b[0m\u001b[0;34m:\u001b[0m\u001b[0;34m\u001b[0m\u001b[0;34m\u001b[0m\u001b[0m\n\u001b[1;32m    581\u001b[0m         \u001b[0minner_namespace\u001b[0m \u001b[0;34m=\u001b[0m \u001b[0mVarLookupDict\u001b[0m\u001b[0;34m(\u001b[0m\u001b[0;34m[\u001b[0m\u001b[0mdata\u001b[0m\u001b[0;34m,\u001b[0m \u001b[0mmemorize_state\u001b[0m\u001b[0;34m[\u001b[0m\u001b[0;34m\"transforms\"\u001b[0m\u001b[0;34m]\u001b[0m\u001b[0;34m]\u001b[0m\u001b[0;34m)\u001b[0m\u001b[0;34m\u001b[0m\u001b[0;34m\u001b[0m\u001b[0m\n\u001b[0;32m--> 582\u001b[0;31m         return call_and_wrap_exc(\n\u001b[0m\u001b[1;32m    583\u001b[0m             \u001b[0;34m\"Error evaluating factor\"\u001b[0m\u001b[0;34m,\u001b[0m\u001b[0;34m\u001b[0m\u001b[0;34m\u001b[0m\u001b[0m\n\u001b[1;32m    584\u001b[0m             \u001b[0mself\u001b[0m\u001b[0;34m,\u001b[0m\u001b[0;34m\u001b[0m\u001b[0;34m\u001b[0m\u001b[0m\n",
            "\u001b[0;32m/usr/local/lib/python3.10/dist-packages/patsy/compat.py\u001b[0m in \u001b[0;36mcall_and_wrap_exc\u001b[0;34m(msg, origin, f, *args, **kwargs)\u001b[0m\n\u001b[1;32m     41\u001b[0m     \u001b[0;32mexcept\u001b[0m \u001b[0mException\u001b[0m \u001b[0;32mas\u001b[0m \u001b[0me\u001b[0m\u001b[0;34m:\u001b[0m\u001b[0;34m\u001b[0m\u001b[0;34m\u001b[0m\u001b[0m\n\u001b[1;32m     42\u001b[0m         \u001b[0mnew_exc\u001b[0m \u001b[0;34m=\u001b[0m \u001b[0mPatsyError\u001b[0m\u001b[0;34m(\u001b[0m\u001b[0;34m\"%s: %s: %s\"\u001b[0m \u001b[0;34m%\u001b[0m \u001b[0;34m(\u001b[0m\u001b[0mmsg\u001b[0m\u001b[0;34m,\u001b[0m \u001b[0me\u001b[0m\u001b[0;34m.\u001b[0m\u001b[0m__class__\u001b[0m\u001b[0;34m.\u001b[0m\u001b[0m__name__\u001b[0m\u001b[0;34m,\u001b[0m \u001b[0me\u001b[0m\u001b[0;34m)\u001b[0m\u001b[0;34m,\u001b[0m \u001b[0morigin\u001b[0m\u001b[0;34m)\u001b[0m\u001b[0;34m\u001b[0m\u001b[0;34m\u001b[0m\u001b[0m\n\u001b[0;32m---> 43\u001b[0;31m         \u001b[0;32mraise\u001b[0m \u001b[0mnew_exc\u001b[0m \u001b[0;32mfrom\u001b[0m \u001b[0me\u001b[0m\u001b[0;34m\u001b[0m\u001b[0;34m\u001b[0m\u001b[0m\n\u001b[0m",
            "\u001b[0;31mPatsyError\u001b[0m: Error evaluating factor: NameError: name 'education' is not defined\n    np.log(hhincome) ~ I(age-education-5)\n                       ^^^^^^^^^^^^^^^^^^"
          ]
        }
      ],
      "source": [
        "# Combine variables using the I() function for\n",
        "#   mathematical transformations\n",
        "reg = smf.ols(\"np.log(hhincome) ~ I(age-education-5)\", data=data).fit()"
      ]
    },
    {
      "cell_type": "markdown",
      "metadata": {
        "id": "Tz_bj37WT2Jl"
      },
      "source": [
        "This example combines TWO columns to create a new measure (proxying experience by subtracting education from age, and subtracting an additional 5 years). All we have to do is describe the relationship that we want to model as an explanatory variable, and we are off to the races! Most operators are fair game, and we can include an arbitrary number of columns in our measure calculation."
      ]
    },
    {
      "cell_type": "markdown",
      "metadata": {
        "id": "NUqvAHXAT2Jl"
      },
      "source": [
        "### More robust modeling\n",
        "\n",
        "If we want to utilize robust standard errors, we can easily update our regression results:"
      ]
    },
    {
      "cell_type": "code",
      "execution_count": null,
      "metadata": {
        "colab": {
          "base_uri": "https://localhost:8080/"
        },
        "id": "QnTNpCUWT2Jl",
        "outputId": "3d00f053-b053-4563-e9de-b67698f44d54"
      },
      "outputs": [
        {
          "output_type": "stream",
          "name": "stdout",
          "text": [
            "                            OLS Regression Results                            \n",
            "==============================================================================\n",
            "Dep. Variable:       np.log(hhincome)   R-squared:                         nan\n",
            "Model:                            OLS   Adj. R-squared:                    nan\n",
            "Method:                 Least Squares   F-statistic:                       nan\n",
            "Date:                Mon, 18 Nov 2024   Prob (F-statistic):                nan\n",
            "Time:                        03:36:45   Log-Likelihood:                    nan\n",
            "No. Observations:               13702   AIC:                               nan\n",
            "Df Residuals:                   13701   BIC:                               nan\n",
            "Df Model:                           0                                         \n",
            "Covariance Type:            nonrobust                                         \n",
            "==============================================================================\n",
            "                 coef    std err          t      P>|t|      [0.025      0.975]\n",
            "------------------------------------------------------------------------------\n",
            "Intercept        -inf        nan        nan        nan         nan         nan\n",
            "year             -inf        nan        nan        nan         nan         nan\n",
            "==============================================================================\n",
            "Omnibus:                          nan   Durbin-Watson:                     nan\n",
            "Prob(Omnibus):                    nan   Jarque-Bera (JB):                  nan\n",
            "Skew:                             nan   Prob(JB):                          nan\n",
            "Kurtosis:                         nan   Cond. No.                     1.66e+18\n",
            "==============================================================================\n",
            "\n",
            "Notes:\n",
            "[1] Standard Errors assume that the covariance matrix of the errors is correctly specified.\n",
            "[2] The smallest eigenvalue is 2.02e-26. This might indicate that there are\n",
            "strong multicollinearity problems or that the design matrix is singular.\n"
          ]
        },
        {
          "output_type": "stream",
          "name": "stderr",
          "text": [
            "/usr/local/lib/python3.10/dist-packages/statsmodels/regression/linear_model.py:1698: RuntimeWarning: invalid value encountered in subtract\n",
            "  return self.model.wendog - self.model.predict(\n",
            "/usr/local/lib/python3.10/dist-packages/statsmodels/regression/linear_model.py:1733: RuntimeWarning: invalid value encountered in subtract\n",
            "  return np.sum(weights * (model.endog - mean)**2)\n",
            "/usr/local/lib/python3.10/dist-packages/statsmodels/regression/linear_model.py:949: RuntimeWarning: invalid value encountered in subtract\n",
            "  resid = self.endog - np.dot(self.exog, params)\n",
            "/usr/local/lib/python3.10/dist-packages/numpy/lib/function_base.py:1452: RuntimeWarning: invalid value encountered in subtract\n",
            "  a = op(a[slice1], a[slice2])\n"
          ]
        }
      ],
      "source": [
        "reg = smf.ols(\"np.log(hhincome) ~ year + C(statefip)\", data=data).fit()\n",
        "# Use White's (1980) Standard Error\n",
        "reg.get_robustcov_results(cov_type='HC0')\n",
        "print(reg.summary())"
      ]
    },
    {
      "cell_type": "markdown",
      "metadata": {
        "id": "KGY7gwybT2Jl"
      },
      "source": [
        "Or, if we want to cluster our standard errors by state,"
      ]
    },
    {
      "cell_type": "code",
      "execution_count": null,
      "metadata": {
        "id": "GRP_CreHT2Jl"
      },
      "outputs": [],
      "source": [
        "reg = smf.ols(\"np.log(hhincome) ~ year + C(statefip)\", data=data).fit()\n",
        "# Use Cluster-robust Standard Errors\n",
        "reg.get_robustcov_results(cov_type='cluster', groups=data['statefip']) # Need to specify groups\n",
        "print(reg.summary())"
      ]
    },
    {
      "cell_type": "markdown",
      "metadata": {
        "id": "UGqKjdL7T2Jl"
      },
      "source": [
        "We don't have to stick to just `HC0` and cluster-robust standard errors. Below are some of the [covariance options](http://www.statsmodels.org/dev/generated/statsmodels.regression.linear_model.RegressionResults.get_robustcov_results.html) that we have:\n",
        "1) `HC0`: White's (1980) Heteroskedasticity robust standard errors\n",
        "2) `HC1`, `HC2`, `HC3`: MacKinnon and White's (1985) alternative robust standard errors, with `HC3` being designed for improved performance in small samples\n",
        "3) `cluster`: Cluster robust standard errors\n",
        "4) `hac-panel`: Panel robust standard errors\n",
        "\n",
        "We should choose the standard errors that best fit our specific data needs, and it is important to realize that this choice is highly context-dependent. The structure and nature of our data should be carefully considered, as should the specific regression model that we are trying to implement.\n",
        "\n",
        "### Time Series Models\n",
        "\n",
        "Not only can we model linear regression, we also have multiple time series options available. We won't go into much detail, since each of these models deserve to have significant time devoted to them, and we just don't have the time in this class.\n",
        "\n",
        "- [ARIMA](http://www.statsmodels.org/dev/generated/statsmodels.tsa.arima_model.ARIMA.html) models\n",
        "- [VAR](http://www.statsmodels.org/dev/generated/statsmodels.tsa.vector_ar.var_model.VAR.html) models\n",
        "- [Exponential Smoothing](https://www.statsmodels.org/stable/tsa.html#exponential-smoothing) models\n",
        "\n",
        "We can run an ARIMA, for example, using code like the following example:"
      ]
    },
    {
      "cell_type": "code",
      "execution_count": null,
      "metadata": {
        "id": "rIWlsskMT2Jl"
      },
      "outputs": [],
      "source": [
        "# This won't work unless we have multiple years of data (which we currently don't)\n",
        "\n",
        "from statsmodels.tsa.arima_model import ARIMA\n",
        "\n",
        "y = data.loc[data['statefip']==31, ['hhincome','year']]\n",
        "y.index=pd.to_datetime(y.year)\n",
        "reg = ARIMA(y['hhincome'], order=(1,1,0)).fit()\n",
        "print(reg.summary())"
      ]
    },
    {
      "cell_type": "markdown",
      "metadata": {
        "id": "N7dmbGd0T2Jm"
      },
      "source": [
        "### Modeling Discrete Outcomes\n",
        "\n",
        "If we have a [binary dependent variable](https://www.statsmodels.org/devel/discretemod.html), we are able to use either [Logit](https://www.statsmodels.org/devel/generated/statsmodels.discrete.discrete_model.Logit.html#statsmodels.discrete.discrete_model.Logit) or [Probit](https://www.statsmodels.org/devel/generated/statsmodels.discrete.discrete_model.Probit.html#statsmodels.discrete.discrete_model.Probit) models to estimate the effect of exogenous variables on our outcome of interest. To fit a Logit model:"
      ]
    },
    {
      "cell_type": "code",
      "execution_count": null,
      "metadata": {
        "id": "Ejwv3hu0T2Jm"
      },
      "outputs": [],
      "source": [
        "import statsmodels.api as sm\n",
        "\n",
        "myformula=\"married ~ hhincome + C(statefip) + C(year) + educ\"\n",
        "model= sm.Logit.from_formula(myformula, data=data).fit()"
      ]
    },
    {
      "cell_type": "markdown",
      "metadata": {
        "id": "tq-SITejT2Jm"
      },
      "source": [
        "### Modeling Count Data\n",
        "\n",
        "When modeling count data, we have options such as [Poisson](http://www.statsmodels.org/dev/generated/statsmodels.discrete.discrete_model.Poisson.html#statsmodels.discrete.discrete_model.Poisson) and [Negative Binomial](http://www.statsmodels.org/dev/generated/statsmodels.discrete.discrete_model.NegativeBinomial.html#statsmodels.discrete.discrete_model.NegativeBinomial) models."
      ]
    },
    {
      "cell_type": "code",
      "execution_count": null,
      "metadata": {
        "id": "cJRs0xHzT2Jm"
      },
      "outputs": [],
      "source": [
        "data = pd.read_csv(\"https://github.com/dustywhite7/Econ8310/raw/master/DataSets/auto-mpg.csv\")\n",
        "\n",
        "myformula=\"nchild ~ hhincome + C(statefip) + C(year) + educ + married\"\n",
        "\n",
        "model= sm.Poisson.from_formula(myformula, data=data).fit()"
      ]
    },
    {
      "cell_type": "markdown",
      "metadata": {
        "id": "6XdlO_7xT2Jm"
      },
      "source": [
        "There are many other regression \"flavors\", and the best way to learn about what is available through `statsmodels` is to [read the docs](https://www.statsmodels.org/stable/user-guide.html)."
      ]
    },
    {
      "cell_type": "markdown",
      "metadata": {
        "id": "-urWgbVrT2Jm"
      },
      "source": [
        "## The `patsy` library\n",
        "\n",
        "We have been using regression equations in `statsmodels` a lot without really discussing what is happening behind the scenes. `statsmodels` relies on a library called `patsy` to parse regression equations and prepare our data for regression analysis. While `statsmodels` does a great job of incorporating the `patsy` library for us, this isn't always the case. In fact, it is a really valuable tool in many other contexts (think machine learning or deep learning).\n",
        "\n",
        "\n",
        "### Why use `patsy`?\n",
        "\n",
        "We don't necessarily have to use `patsy`. We could just select our variables manually. Creating a column of ones to serve as our intercept column is trivial (you of course remember that from the linear regression assignment). `patsy` is a tool for creating a standardized pipeline to deal with data that is stored in identical formats, and aids us in creating reusable or replicable code. Patsy allows us to separate our endogenous and exogenous variables AND to\n",
        "\t- \"Dummy out\" categorical variables\n",
        "\t- Easily transform variables (square, or log transforms, etc.)\n",
        "\t- Use identical transformations on future data\n",
        "    \n",
        "Even better, `patsy` is just as easy to use as regression equations. We just need to learn about the function wrappers that are necessary to create our processed data:"
      ]
    },
    {
      "cell_type": "code",
      "execution_count": null,
      "metadata": {
        "id": "MEsx7itXT2Jm"
      },
      "outputs": [],
      "source": [
        "import patsy as pt\n",
        "import pandas as pd\n",
        "import numpy as np\n",
        "\n",
        "data = pd.read_csv(\"https://github.com/dustywhite7/Econ8320/blob/master/AssignmentData/assignment8Data.csv?raw=true\")\n",
        "\n",
        "# To create y AND x matrices\n",
        "y, x = pt.dmatrices(\"hhincome ~ year + educ + married + age\", data = data)"
      ]
    },
    {
      "cell_type": "markdown",
      "metadata": {
        "id": "UmHCvT6iT2Jm"
      },
      "source": [
        "In order to get started, we need to import `patsy`, and we typically give it the two-letter abbreviation `pt`. Once we have imported our data, we use the `pt.dmatrices` function. This function takes a regression equation (again, as a string), and a data source. The returned value is a **tuple** of `y` and `x`. We can break that tuple into two values by using the `y, x = ...` syntax, so that we have a `y` array and an `x` array.\n",
        "\n",
        "We don't have to create BOTH `y` and `x` data, though! We can use the `pt.dmatrix` function to just create an `x` matrix. Maybe we already have a dependent variable, and want to try out variations on our explanatory variables to see how each performs. In this case, our regression equation should have no column name to the left of the `~` symbol:"
      ]
    },
    {
      "cell_type": "code",
      "execution_count": null,
      "metadata": {
        "id": "17wnNQL6T2Jm"
      },
      "outputs": [],
      "source": [
        "# To create ONLY an x matrix\n",
        "x = pt.dmatrix(\"~ year + educ + married + age\", data = data)"
      ]
    },
    {
      "cell_type": "markdown",
      "metadata": {
        "id": "Lkt3E43fT2Jn"
      },
      "source": [
        "One more note is that these regression equations automatically include an intercept term. If you do NOT want an intercept term (some regression models and most machine learning models don't use them), then you can add `-1` as an exogenous variable in your regression equation, in order to indicate that you want to eliminate the column of ones that make up the intercept column in our matrix of exogenous regressors.\n",
        "\n",
        "### Categorical Variables\n",
        "\n",
        "Again, we have the functions described in the regression section above available to us as we transform our data. We can create categorical variables:"
      ]
    },
    {
      "cell_type": "code",
      "execution_count": null,
      "metadata": {
        "id": "XMzU9m_aT2Jn"
      },
      "outputs": [],
      "source": [
        "# To create y AND x matrices\n",
        "eqn = \"hhincome ~ C(year) + educ + married + age\"\n",
        "y, x = pt.dmatrices(eqn, data = data)"
      ]
    },
    {
      "cell_type": "markdown",
      "metadata": {
        "id": "-hcGEwR1T2Jo"
      },
      "source": [
        "And (again) we can transform variables!"
      ]
    },
    {
      "cell_type": "code",
      "execution_count": null,
      "metadata": {
        "id": "3PB59NN-T2Jo"
      },
      "outputs": [],
      "source": [
        "# To create y AND x matrices\n",
        "eqn = \"I(np.log(hhincome)) ~ C(year) + educ + married + age + I(age**2)\"\n",
        "y, x = pt.dmatrices(eqn, data = data)"
      ]
    },
    {
      "cell_type": "markdown",
      "metadata": {
        "id": "6NXce1NtT2Jo"
      },
      "source": [
        "We can also use interaction operators. `*` will interact each value of two columns, and also include the original columns in the regression model. `:` will include only the interaction terms, while omitting the original columns. Check out the [explanation of formulas](https://patsy.readthedocs.io/en/latest/formulas.html) for more details.\n",
        "\n",
        "\n",
        "### SUPER IMPORTANT $\\rightarrow$ Same Transformation on New Data!\n",
        "\n",
        "Often, we will want to build a model with observed data that can make predictions about new observations as those observations are recorded. `patsy` provides a simple function to take the structure of one exogenous matrix and generate another identically structured matrix using new data:"
      ]
    },
    {
      "cell_type": "code",
      "execution_count": null,
      "metadata": {
        "id": "l2I-Td25T2Jo"
      },
      "outputs": [],
      "source": [
        "# To create a new x matrix based on our previous version\n",
        "xNew = pt.build_design_matrices([x.design_info], dataNew)"
      ]
    },
    {
      "cell_type": "markdown",
      "metadata": {
        "id": "oONdpdyNT2Jo"
      },
      "source": [
        "In other words, we can create a new matrix in the SAME SHAPE as our original `x` matrix by using the `build_design_matrices()` function in `patsy`.\n",
        "\n",
        "We pass a list containing the old design matrix information (because we can actually create many matrices simultaneously), as well as the new data from which to construct our new matrix.\n",
        "\n",
        "Why does recreating our `x` array matter? This process ensures that we always have the same number of categories in our categorical variables. A new, smaller subset of data that is freshly observed may not contain observations of every category, in which case an updated patsy matrix would not contain the correct number of columns! We are able to maintain consistency in our model, making our work replicable. Most importantly, this will streamline the use of `statsmodels` and `sklearn` in the same workflow!\n",
        "\n",
        "Speaking of `sklearn`..."
      ]
    },
    {
      "cell_type": "markdown",
      "metadata": {
        "id": "m5xgYeP1T2Jo"
      },
      "source": [
        "## `sklearn`\n",
        "\n",
        "What `statsmodels` does for regression analysis, `sklearn` does for predictive analytics and machine learning. It is a truly fabulous library. `sklearn` is likely the most popular machine learning library, and has a standard API to make using the library VERY simple. Even better, it's documentation is some of the nicest documentation you will find anywhere, and contains incredible detail about how to implement models, as well as lessons about the \"how\" and \"why\" of using each model. You couldn't write a better textbook about machine learning than the documentation for `sklearn`.\n",
        "\n",
        "Below, we will briefly discuss some of the models that are most commonly utilized from `sklearn`. Details will be sparse. We are mostly focused on the code implementation of these models. More detail on how machine learning models work is provided in  Business Forecasting, and is outside the scope of this course.\n",
        "\n",
        "### Decision Tree Classification (and Regression)\n",
        "\n",
        "[Classification](http://scikit-learn.org/stable/modules/generated/sklearn.tree.DecisionTreeClassifier.html#sklearn.tree.DecisionTreeClassifier) and [Regression](http://scikit-learn.org/stable/modules/generated/sklearn.tree.DecisionTreeRegressor.html#sklearn.tree.DecisionTreeRegressor) Trees (CARTs) are the standard jumping-off point for exploring machine learning. They are very easy to implement in `sklearn`:"
      ]
    },
    {
      "cell_type": "code",
      "execution_count": null,
      "metadata": {
        "id": "lEHyBexUT2Jo"
      },
      "outputs": [],
      "source": [
        "from sklearn import tree\n",
        "from sklearn.metrics import accuracy_score\n",
        "import pandas as pd\n",
        "import patsy as pt\n",
        "\n",
        "data = pd.read_csv(\"https://github.com/dustywhite7/pythonMikkeli/raw/master/exampleData/roomOccupancy.csv\")\n",
        "\n",
        "y, x = pt.dmatrices(\"Occupancy ~ CO2\", data=data)\n",
        "\n",
        "clf = tree.DecisionTreeClassifier()\n",
        "clf = clf.fit(x, y.squeeze())\n",
        "\n",
        "pred = clf.predict(x)\n",
        "\n",
        "print(\"In-sample accuracy: {}\".format(accuracy_score(y.squeeze(), pred)))"
      ]
    },
    {
      "cell_type": "markdown",
      "metadata": {
        "id": "LDCOyLL1T2Jo"
      },
      "source": [
        "    In-sample accuracy: 0.9753162225224119\n",
        "\n",
        "\n",
        "### Support Vector Machines\n",
        "\n",
        "We also implement [Support Vector Machines](http://scikit-learn.org/stable/modules/svm.html#svm) for both [classification](http://scikit-learn.org/stable/modules/generated/sklearn.svm.SVC.html#sklearn.svm.SVC) and [regression](http://scikit-learn.org/stable/modules/generated/sklearn.svm.SVR.html#sklearn.svm.SVR):"
      ]
    },
    {
      "cell_type": "code",
      "execution_count": null,
      "metadata": {
        "id": "SscSfa6OT2Jo"
      },
      "outputs": [],
      "source": [
        "from sklearn import svm\n",
        "from sklearn.metrics import accuracy_score\n",
        "\n",
        "clf = svm.SVC()\n",
        "clf = clf.fit(x, y.squeeze())\n",
        "\n",
        "pred = clf.predict(x)\n",
        "\n",
        "print(\"In-sample accuracy: {}\".format(accuracy_score(y.squeeze(), pred)))"
      ]
    },
    {
      "cell_type": "markdown",
      "metadata": {
        "id": "-F-wyvU1T2Jp"
      },
      "source": [
        "    /opt/conda/lib/python3.7/site-packages/sklearn/svm/base.py:193: FutureWarning: The default value of gamma will change from 'auto' to 'scale' in version 0.22 to account better for unscaled features. Set gamma explicitly to 'auto' or 'scale' to avoid this warning.\n",
        "      \"avoid this warning.\", FutureWarning)\n",
        "\n",
        "\n",
        "    In-sample accuracy: 0.9397028122313643\n",
        "\n",
        "\n",
        "Can you see the API pattern yet?\n",
        "\n",
        "### Random Forest Models\n",
        "\n",
        "Again, available in both [classification](http://scikit-learn.org/stable/modules/generated/sklearn.ensemble.RandomForestClassifier.html#sklearn.ensemble.RandomForestClassifier) and [regression](http://scikit-learn.org/stable/modules/generated/sklearn.ensemble.RandomForestRegressor.html#sklearn.ensemble.RandomForestRegressor) flavors, these models are aggregations of many randomized Decision Trees."
      ]
    },
    {
      "cell_type": "code",
      "execution_count": null,
      "metadata": {
        "id": "ppmkZd-MT2Jp"
      },
      "outputs": [],
      "source": [
        "from sklearn.ensemble import RandomForestClassifier\n",
        "from sklearn.metrics import accuracy_score\n",
        "\n",
        "clf = RandomForestClassifier(n_estimators=50)\n",
        "clf = clf.fit(x, y.squeeze())\n",
        "\n",
        "pred = clf.predict(x)\n",
        "\n",
        "print(\"In-sample accuracy: {}\".format(accuracy_score(y.squeeze(), pred)))"
      ]
    },
    {
      "cell_type": "markdown",
      "metadata": {
        "id": "vG13E-mOT2Jp"
      },
      "source": [
        "    In-sample accuracy: 0.9748250030701215\n",
        "\n",
        "\n",
        "There MUST be a pattern here...\n",
        "\n",
        "Of course there is! We import our classifier (or regressor), then create an instance of that object. We can name it `clf` or anything else that we prefer. From there, the process is the same:\n",
        "- Use the `.fit()` method, passing in the relevant data for our context\n",
        "- Create predictions using our fitted model with `.predict()` and new exogenous data (or the old data to test in-sample fit)\n",
        "- Measure the performance of our model with `accuracy_score`, or any other metric that can describe performance given a specific use case\n",
        "\n",
        "### More from `sklearn`\n",
        "\n",
        "Many other tools are also available to aid in the data cleaning process through `sklearn`. Some of these are:\n",
        "\n",
        "- [Principal Component Analysis (PCA)](http://scikit-learn.org/stable/modules/generated/sklearn.decomposition.PCA.html#sklearn.decomposition.PCA)\n",
        "- [Factor Analysis](http://scikit-learn.org/stable/modules/generated/sklearn.decomposition.FactorAnalysis.html#sklearn.decomposition.FactorAnalysis)\n",
        "- Many [Cross-Validation Algorithms](http://scikit-learn.org/stable/modules/cross_validation.html)\n",
        "- [Hyperparameter Tuning](http://scikit-learn.org/stable/modules/grid_search.html)\n",
        "   - Finding the correct parameters for a decision tree or random forest, for example\n",
        "- [Model Evaluation Tools](http://scikit-learn.org/stable/modules/model_evaluation.html)\n",
        "- [Plotting decision trees](https://scikit-learn.org/stable/modules/generated/sklearn.tree.plot_tree.html#sklearn.tree.plot_tree)\n"
      ]
    },
    {
      "cell_type": "markdown",
      "metadata": {
        "id": "ovZC3bGiT2Jp"
      },
      "source": [
        "## Solve-it!\n",
        "\n",
        "Using the wage data provided here (https://github.com/dustywhite7/pythonMikkeli/raw/master/exampleData/wagePanelData.csv), create a linear regression model to explain and/or predict wages. Your data set should be labeled `data` and your fitted model should be stored as `reg`. If you do not name the model correctly, you won't get any points!\n",
        "\n",
        "Please put all your code for this exercise in the cell labeled `#si-linear-regression` file found below."
      ]
    },
    {
      "cell_type": "code",
      "execution_count": null,
      "metadata": {
        "colab": {
          "base_uri": "https://localhost:8080/",
          "height": 611
        },
        "id": "O5YbwsHoT2Jp",
        "outputId": "23beb5a7-f418-4ac3-a359-22d80149b0e2"
      },
      "outputs": [
        {
          "output_type": "stream",
          "name": "stdout",
          "text": [
            "Coefficients: [0.07350433 0.01290809]\n",
            "Intercept: 5.477590077200464\n",
            "Mean Squared Error: 0.16498466059323844\n",
            "R^2 Score: 0.2800621745199233\n"
          ]
        },
        {
          "output_type": "display_data",
          "data": {
            "text/html": [
              "<html>\n",
              "<head><meta charset=\"utf-8\" /></head>\n",
              "<body>\n",
              "    <div>            <script src=\"https://cdnjs.cloudflare.com/ajax/libs/mathjax/2.7.5/MathJax.js?config=TeX-AMS-MML_SVG\"></script><script type=\"text/javascript\">if (window.MathJax && window.MathJax.Hub && window.MathJax.Hub.Config) {window.MathJax.Hub.Config({SVG: {font: \"STIX-Web\"}});}</script>                <script type=\"text/javascript\">window.PlotlyConfig = {MathJaxConfig: 'local'};</script>\n",
              "        <script charset=\"utf-8\" src=\"https://cdn.plot.ly/plotly-2.35.2.min.js\"></script>                <div id=\"9cf38779-7670-4ec5-84fd-c236e57cb06e\" class=\"plotly-graph-div\" style=\"height:525px; width:100%;\"></div>            <script type=\"text/javascript\">                                    window.PLOTLYENV=window.PLOTLYENV || {};                                    if (document.getElementById(\"9cf38779-7670-4ec5-84fd-c236e57cb06e\")) {                    Plotly.newPlot(                        \"9cf38779-7670-4ec5-84fd-c236e57cb06e\",                        [{\"hovertemplate\":\"Actual Wages=%{x}\\u003cbr\\u003ePredicted Wages=%{y}\\u003cextra\\u003e\\u003c\\u002fextra\\u003e\",\"legendgroup\":\"\",\"marker\":{\"color\":\"#636efa\",\"symbol\":\"circle\"},\"mode\":\"markers\",\"name\":\"\",\"orientation\":\"v\",\"showlegend\":false,\"x\":[6.8773,7.29302,6.97261,6.66568,6.21461,7.69621,5.95324,6.25383,6.83195,7.1309,6.56808,7.26193,6.90776,6.16331,6.56526,6.57786,6.90776,6.9256,5.50126,6.47697,6.90575,6.51471,8.04719,6.97167,6.90776,6.69456,5.84354,6.13988,6.14633,7.1309,6.65801,6.90776,6.68461,6.65929,6.90575,6.608,6.95655,7.06048,6.10702,6.99485,7.27932,6.59987,5.95324,6.66568,6.57925,6.51471,6.37161,7.01481,6.55108,6.33683,7.02554,6.51471,6.61607,6.85646,6.23048,6.55108,6.73221,6.59851,6.74524,7.23346,8.13153,6.77422,6.55108,6.65929,6.35957,6.42487,6.35437,6.05209,6.90575,7.02376,6.3315,6.47697,6.45047,8.22951,6.63332,7.12448,7.21671,6.68461,5.93225,6.65929,6.96602,6.90776,7.1309,6.65929,6.90575,6.88244,6.29157,6.30628,6.56386,6.79122,6.62007,6.80239,6.09807,6.74524,7.01481,6.60665,6.21461,6.90776,7.18992,6.69703,6.06611,6.05209,6.80239,6.86693,7.09008,6.65286,6.90776,6.9594,6.46925,6.46459,5.89715,7.19519,6.48158,6.65286,6.81892,6.57786,7.31322,7.27932,7.61874,6.92756,6.80239,6.38856,5.8861,6.12905,6.05209,6.90575,6.65929,6.99393,6.72743,5.99146,6.71538,6.22456,7.15462,6.93342,6.60259,7.49332,7.09008,6.51471,6.85646,6.90776,6.41017,7.04141,7.31322,6.67203,6.73934,6.31716,6.47697,6.73102,6.90575,6.21461,6.58617,6.32436,6.29157,6.42162,6.55108,6.48311,6.2804,7.75148,6.30992,7.59287,6.48311,6.18826,5.82008,6.62007,6.18415,6.86901,5.65249,5.75257,6.41182,7.1507,6.77422,6.03309,7.23778,6.73102,6.44095,7.1293,6.90575,6.83841,6.57508,7.20786,6.608,6.90776,6.51026,6.00141,6.35089,6.84588,6.89972,7.25134,6.68211,6.35437,6.39693,6.55393,7.04752,6.39693,6.30992,7.31322,6.55108,7.04752,7.17012,6.71538,6.62007,5.99146,6.70808,6.39693,6.22456,7.27932,7.1309,6.65286,6.90776,6.35957,6.86693,6.93634,7.52564,6.04025,7.45008,7.05186,7.21891,5.66988,6.55251,7.18159,5.99146,7.40853,7.88231,5.01064,6.63332,7.02554,6.82979,6.80239,6.79122,7.48156,6.91175,5.8861,7.54961,7.07918,6.51767,6.54391,6.59715,6.39693,6.77422,6.07535,6.42487,6.90776,5.8861,6.85751,7.67601,6.82437,5.99146,6.27288,6.49224,7.09008,7.34601,6.65673,5.84354,6.91771,6.90575,6.96791,6.27476,7.04752,6.60259,5.273,6.22654,5.8999,6.66058,6.11147,6.95655,6.17794,6.39693,6.72743,6.30992,6.10925,6.37502,6.77422,6.39693,6.74524,7.46737,7.37776,6.90776,6.8977,6.71538,5.81413,6.90575,6.43775,5.92693,6.47697,6.81124,6.02828,7.00307,7.1309,6.96602,6.01372,6.62007,7.18311,6.53669,6.31355,6.01616,6.5903,6.17379,6.29157,6.7334,6.75344,6.98379,7.06817,6.90575,6.91274,7.31986,7.18007,6.38856,6.38351,7.1309,6.26149,6.51175,7.9831,6.28972,6.23441,6.85646,7.04141,6.88346,7.31322,6.65929,6.10256,5.82895,6.50429,6.33328,6.90776,6.12687,7.24423,6.80239,6.86693,6.34388,6.16331,7.13569,6.65673,7.09008,6.90776,6.33328,6.82979,6.286,5.4161,6.39192,7.91936,6.21461,6.25767,6.95655,6.80239,7.1309,7.09008,5.4161,6.9256,6.93245,6.64639,6.63332,6.30079,6.17379,6.21461,7.18917,6.05209,6.95655,6.90776,5.70378,5.68358,6.12687,6.90575,6.7901,6.35437,7.45703,6.28227,5.59842,8.3082,6.67077,6.95655,7.35947,6.55393,5.86079,5.98645,7.06476,6.56386,6.76849,6.90575,6.90575,6.57228,7.17012,7.49554,7.00307,6.85646,6.90575,6.21461,7.43838,6.56386,7.03615,7.08841,6.43455,8.51719,6.97541,6.19644,5.99146,6.20456,6.39693,6.37673,6.54535,6.81892,6.99393,6.57508,7.21891,6.86485,7.32251,6.62007,7.22766,5.75257,7.1309,6.90575,6.90575,6.632,5.95842,6.65544,6.04025,6.30445,6.10925,7.18007,6.90575,7.37776,6.58617,6.86693,6.48158,7.02554,6.62007,6.33328,6.54391,5.76832,6.39693,6.90776,6.21461,6.21461,7.67322,6.21461,6.90776,6.90575,6.2634,6.10032,6.91968,8.12089,6.90776,7.29302,7.16549,6.74524,7.66153,6.90776,6.74993,7.02554,6.86693,6.56244,6.10925,7.40853,6.39693,6.56244,7.6009,6.21461,6.99485,7.48437,7.09672,6.97635,6.56526,7.20786,6.04025,7.11477,6.85646,6.17379,5.76832,6.55108,6.62007,7.17012,6.90776,6.51471,6.62007,6.81564,6.66441,6.32436,6.21461,6.55962,7.05876,7.1309,6.10925,6.57925,6.10702,6.21261,6.85646,7.18917,6.63726,6.49224,7.15462,6.1717,7.09008,6.23637,7.82405,6.50279,5.85793,7.19818,6.65929,6.30992,6.16331,6.85646,7.00307,6.29342,6.68461,6.05209,6.40192,6.07993,6.39359,6.85646,6.80239,7.14283,6.90575,6.42162,6.17379,6.19032,6.4552,6.90575,6.47697,6.79347,6.61874,6.80461,6.68461,6.80461,6.43615,7.91936,6.03548,6.28972,6.89264,6.55108,6.45362,6.54822,6.93537,6.57368,6.70319,6.30992,6.81344,6.81344,6.67834,6.62007,6.82979,6.39359,6.79122,6.43455,6.90575,6.71296,6.5582,6.91175,6.80239,6.55108,5.78383,5.59842,6.14633,6.77422,6.51471,6.66823,6.49979,6.80239,6.90575,6.04025,6.90575,7.27932,6.69084,7.31322,6.79794,6.90575,5.8999,6.62007,6.90575,6.82655,5.4161,6.80239,6.30079,6.90575,7.26683,5.95584,6.47697,6.62007,6.49224,6.39693,6.80239,6.55108,6.45362,6.55108,6.82979,7.02643,6.98472,7.09257,6.53959,5.73657,6.64898,6.71538,6.50129,6.90575,7.35819,6.49375,6.04025,6.90575,7.31322,7.40853,7.37776,5.70378,6.80239,7.48717,7.40853,7.12769,6.04025,6.8773,6.79571,7.2998,6.5582,6.21461,6.90575,6.36475,7.17012,6.59987,6.69084,6.14633,6.39359,6.55108,7.10661,6.80239,7.24423,7.06048,5.9135,7.46737,7.35244,5.75257,6.59715,6.39693,5.99146,6.58755,6.90575,6.65673,6.66185,7.78322,7.09008,7.29709,5.70378,6.47697,7.02554,6.91274,5.86647,6.4552,7.09008,6.82002,5.89715,6.69456,6.6733,7.2724,6.47851,6.33328,6.63332,6.77308,6.19644,7.24566,6.16331,6.96224,5.59842,6.20456,5.52146,6.30992,6.71538,6.62007,6.22258,7.03527,6.47697,6.91968,7.1309,6.30992,6.74524,6.62007,6.07535,6.74524,6.24417,5.85793,7.72886,6.58064,6.66568,6.82763,7.05618,7.37776,5.96615,6.34564,6.82979,6.21261,6.35437,6.2634,6.23441,6.47697,6.80239,6.72263,6.80239,6.82546,6.62007,6.33683,7.40853,6.6796,6.21461,6.75926,6.47697,7.1309,5.99146,6.72143,5.78383,6.38182,6.85646,6.286,6.62936,8.04879,5.73657,6.55108,7.06561,7.20786,6.95655,6.53669,6.68461,5.89715,7.45298,6.7334,7.28276,6.84375,6.49224,5.74939,5.98141,6.54679,5.79606,6.62007,5.50126,6.2634,7.31322,6.7511,7.75577,7.0775,6.87626,6.48004,6.96791,6.8773,8.05516,6.62274,6.68586,7.21082,6.82437,6.95655,6.66313,6.52942,6.88857,6.21461,6.83518,7.6009,6.90575,6.62007,6.97541,6.55108,7.69621,6.93731,5.52146,7.16085,6.88244,7.31322,6.7093,5.85793,6.46147,5.7462,6.85646,6.95655,6.31897,6.74406,6.64118,6.39526,7.01031,7.00307,6.6107,6.31173,6.22059,5.95324,6.77422,7.52294,5.99146,6.55108,6.90776,6.54391,6.34212,6.90575,6.65286,7.48829,7.22621,6.50129,5.73334,6.48311,7.17012,7.40853,6.6174,7.04752,6.90575,6.88449,7.09008,8.16052,6.99026,5.70378,6.94986,6.96791,7.40001,6.76849,6.64639,6.13123,6.95655,5.81413,6.74406,6.35437,7.0076,6.30992,6.90675,6.81674,6.74524,6.47697,6.56667,7.34278,6.55108,6.7334,6.24998,6.66313,6.84055,6.93245,6.59167,6.85646,6.49677,6.43775,6.21461,6.22654,6.90575,6.43455,6.90776,6.52209,6.30992],\"xaxis\":\"x\",\"y\":[6.556132127900067,7.127314506528595,6.6744559037166065,6.401235059741227,6.817520370210914,7.0538101730040195,6.544299526235536,6.692383680633392,6.540355325680691,6.782740303726049,6.824333283971899,6.751904437796027,6.798517105945425,6.488722969627744,6.804612281197678,6.488722969627744,6.600951570192031,6.7956483927392854,6.4241825245615605,6.760868326254419,7.049865972449176,6.461831304252566,7.027993994977546,6.449998702588035,6.847280748792232,6.721068571866005,6.488722969627744,6.398366346535088,6.617803859760111,6.725012772420849,6.669436215813058,6.643620037786585,6.790628704835737,6.648639725690133,7.002177816951073,6.475814880614507,6.626767748218504,6.8114251949586615,6.726088259769553,6.821464570765759,6.812500682307366,6.478683593820647,6.259246080595624,6.656528126799822,6.907876993303572,6.583023793275245,6.449998702588035,7.002177816951073,7.024049794422702,6.398366346535088,6.514539147654218,6.536411125125847,6.708160482852769,6.556132127900067,6.597007369637186,6.488722969627744,6.566171503707165,6.203669523987832,6.452867415794174,6.782740303726049,6.963453549911362,6.744016036686339,6.746884749892478,6.449998702588035,6.571191191610714,6.527447236667454,6.731107947673102,6.475814880614507,7.079626351030493,6.540355325680691,6.604895770746875,6.514539147654218,6.306934236093726,6.972417438369755,6.8304284592241515,6.985325527382992,6.869152726263861,6.837241372985135,6.466850992156115,6.791704192184442,6.7956483927392854,7.011141705409465,6.785609016932188,6.759792838905715,7.024049794422702,6.907876993303572,6.540355325680691,6.462906791601271,6.432070925671249,6.93763737188489,6.873096926818706,6.8114251949586615,6.778796103171205,6.514539147654218,7.101498328502123,6.466850992156115,6.686288505381139,6.744016036686339,6.630711948773348,6.744016036686339,6.566171503707165,6.449998702588035,6.869152726263861,6.604895770746875,6.7956483927392854,6.785609016932188,6.985325527382992,6.591987681733638,6.501631058640982,6.686288505381139,6.687363992729844,6.744016036686339,6.93763737188489,6.678400104271451,6.651508438896273,6.8304284592241515,6.847280748792232,6.8304284592241515,6.708160482852769,6.920785082316808,6.617803859760111,6.4241825245615605,6.62282354766366,6.314822637203414,6.4847787690729,7.027993994977546,6.817520370210914,7.127314506528595,6.8035367938489735,6.374343394366049,6.837241372985135,6.869152726263861,7.1531306845550695,6.837241372985135,6.475814880614507,7.144166796096677,7.127314506528595,6.8114251949586615,6.8114251949586615,6.553263414693928,6.514539147654218,6.798517105945425,6.834372659778996,7.036957883435939,6.769832214712812,6.850149461998372,6.927597996077792,6.566171503707165,6.972417438369755,6.690232705935983,6.630711948773348,6.475814880614507,6.613859659205267,6.829352971875447,6.778796103171205,6.452867415794174,6.419162836658012,7.1531306845550695,6.759792838905715,6.85516914990192,6.4241825245615605,6.423107037212857,6.263190281150467,6.808556481752523,6.470795192710959,6.695252393839532,6.437090613574798,6.315898124552119,6.4241825245615605,6.553263414693928,6.6823443048262945,6.566171503707165,6.808556481752523,6.656528126799822,6.290081946525645,6.856244637250625,6.906801505954867,6.617803859760111,6.522427548763906,6.972417438369755,6.712104683407612,6.437090613574798,6.5959318822884825,6.437090613574798,6.824333283971899,6.578004105371697,6.933693171330045,6.911821193858415,6.591987681733638,6.376494369063458,6.731107947673102,6.475814880614507,6.579079592720401,6.62282354766366,6.411274435548324,7.011141705409465,6.808556481752523,6.782740303726049,6.696327881188236,6.314822637203414,6.540355325680691,6.513463660305513,6.8759656400248454,6.437090613574798,6.600951570192031,7.036957883435939,7.0706624625721,6.772700927918952,7.105442529056966,6.725012772420849,6.444979014684486,6.953414174104266,6.920785082316808,6.609915458650423,6.782740303726049,6.630711948773348,6.759792838905715,6.488722969627744,6.695252393839532,6.687363992729844,6.500555571292276,6.742940549337634,6.989269727937836,6.354622391591829,6.635731636676897,6.553263414693928,6.630711948773348,6.562227303152321,6.847280748792232,7.114406417515359,6.834372659778996,6.488722969627744,7.024049794422702,6.972417438369755,6.34960270368828,6.527447236667454,6.479759081169352,6.731107947673102,6.510594947099374,6.449998702588035,6.449998702588035,6.569040216913304,6.570115704262008,6.989269727937836,7.09253444004373,6.785609016932188,6.350678191036985,6.462906791601271,6.462906791601271,6.880985327928394,7.088590239488886,6.437090613574798,6.575135392165557,6.449998702588035,6.315898124552119,6.517407860860358,6.66154781470337,6.834372659778996,6.393346658631539,6.75871735155701,6.4023105470899315,6.863057551011608,6.4826277943754915,6.501631058640982,6.911821193858415,5.965228746497319,6.4966113707374324,6.8304284592241515,6.527447236667454,6.8114251949586615,6.58409928062395,7.002177816951073,6.374343394366049,6.772700927918952,6.93763737188489,6.898913104845179,6.475814880614507,6.946601260343282,6.856244637250625,6.172833658057811,7.140222595541832,6.744016036686339,6.8759656400248454,6.462906791601271,6.449998702588035,6.733976660879241,6.772700927918952,6.769832214712812,6.886005015831943,6.5959318822884825,6.562227303152321,6.566171503707165,6.56509601635846,6.591987681733638,6.411274435548324,6.318766837758258,6.566171503707165,6.501631058640982,6.690232705935983,6.920785082316808,6.6744559037166065,6.764812526809264,7.002177816951073,6.540355325680691,6.785609016932188,6.483703281724196,6.728956972975693,6.2165776130010695,6.886005015831943,6.501631058640982,6.453942903142878,7.191854951594779,6.570115704262008,6.669436215813058,6.778796103171205,6.798517105945425,6.488722969627744,6.920785082316808,6.6256922608697995,6.901781818051319,6.514539147654218,6.406254747644776,6.613859659205267,6.6744559037166065,6.478683593820647,6.808556481752523,6.54322403888683,6.8601888378054685,6.579079592720401,6.2811180580672525,6.751904437796027,6.668360728464354,6.785609016932188,6.673380416367902,6.648639725690133,6.834372659778996,6.437090613574798,6.220521813555913,6.604895770746875,6.950545460898126,6.740071836131495,6.728956972975693,6.933693171330045,6.893893416941631,6.798517105945425,6.7956483927392854,6.471870680059664,6.946601260343282,6.837241372985135,6.475814880614507,6.604895770746875,6.638600349883037,7.1183506180702025,6.759792838905715,6.985325527382992,6.648639725690133,6.764812526809264,6.907876993303572,6.168889457502966,6.544299526235536,6.437090613574798,7.040902083990783,6.591987681733638,6.791704192184442,6.907876993303572,6.414143148754464,6.579079592720401,6.843336548237389,7.079626351030493,6.747960237241183,6.790628704835737,6.6823443048262945,6.635731636676897,6.475814880614507,6.579079592720401,6.540355325680691,6.9595093493565185,7.027993994977546,6.989269727937836,6.756924125699576,6.617803859760111,6.821464570765759,6.566171503707165,6.687363992729844,6.73899634878279,6.591987681733638,6.869152726263861,6.130165190463257,6.501631058640982,6.868077238915157,7.140222595541832,6.497686858086137,6.488722969627744,6.501631058640982,6.470795192710959,6.367530480605065,6.562227303152321,6.656528126799822,6.527447236667454,6.436015126226093,6.332750414120199,6.687363992729844,6.635731636676897,6.70027208174308,7.075682150475648,6.785609016932188,6.604895770746875,6.505575259195825,6.808556481752523,6.600951570192031,7.027993994977546,6.708160482852769,6.8759656400248454,6.834372659778996,6.692383680633392,6.566171503707165,6.746884749892478,6.945525772994578,6.8114251949586615,6.769832214712812,6.470795192710959,6.786684504280893,6.634656149328192,6.635731636676897,6.544299526235536,6.5235030361126105,6.535335637777143,6.449998702588035,6.7956483927392854,6.708160482852769,6.4241825245615605,6.588043481178794,7.0538101730040195,6.901781818051319,6.495535883388728,7.256395396660962,6.434939638877388,6.241318303678838,6.588043481178794,6.998233616396229,7.022974307073998,6.821464570765759,6.566171503707165,6.769832214712812,6.834372659778996,6.566171503707165,6.66154781470337,7.105442529056966,6.821464570765759,6.548243726790379,6.669436215813058,7.079626351030493,6.656528126799822,6.677324616922746,7.088590239488886,6.510594947099374,7.011141705409465,7.062774061462412,6.920785082316808,6.893893416941631,6.437090613574798,7.049865972449176,6.5313914372222985,7.256395396660962,6.791704192184442,6.7658880141579685,6.159925569044574,6.514539147654218,6.566171503707165,6.348527216339575,6.971341951021051,6.725012772420849,7.169982974123149,6.8035367938489735,6.315898124552119,6.184666259722343,6.276098370163704,6.540355325680691,6.817520370210914,6.7956483927392854,6.4241825245615605,6.591987681733638,6.3456585031334365,6.579079592720401,6.920785082316808,6.843336548237389,6.549319214139084,6.276098370163704,6.8949689042903355,6.62282354766366,6.854093662553216,6.514539147654218,7.178946862581542,6.635731636676897,6.58696799383009,6.579079592720401,6.571191191610714,6.527447236667454,6.505575259195825,6.401235059741227,6.553263414693928,6.449998702588035,6.462906791601271,6.471870680059664,7.256395396660962,6.48764748227904,6.540355325680691,6.6744559037166065,6.798517105945425,6.713180170756317,6.963453549911362,6.5611518158036155,6.276098370163704,6.579079592720401,6.437090613574798,6.683419792174999,6.570115704262008,6.798517105945425,6.437090613574798,6.933693171330045,6.695252393839532,6.856244637250625,6.540355325680691,6.972417438369755,6.4101989481996196,6.635731636676897,6.856244637250625,6.692383680633392,6.488722969627744,6.344583015784732,6.972417438369755,6.58409928062395,6.579079592720401,7.157074885109913,7.191854951594779,6.579079592720401,6.566171503707165,6.767681240015403,6.6256922608697995,6.510594947099374,6.737920861434086,6.579079592720401,6.842261060888684,6.769832214712812,6.441034814129642,6.847280748792232,7.088590239488886,6.721068571866005,6.362510792701517,6.536411125125847,6.785609016932188,6.933693171330045,6.873096926818706,6.263190281150467,6.510594947099374,6.449998702588035,7.011141705409465,6.557207615248772,7.015085905964309,6.873096926818706,6.678400104271451,7.010066218060761,6.514539147654218,6.56509601635846,6.78058932902864,6.843336548237389,6.769832214712812,6.609915458650423,6.117257101450019,6.7956483927392854,6.553263414693928,6.731107947673102,7.0538101730040195,6.409123460850915,6.510594947099374,6.612784171856562,6.604895770746875,6.692383680633392,7.062774061462412,6.553263414693928,6.791704192184442,6.850149461998372,6.837241372985135,6.759792838905715,6.514539147654218,6.579079592720401,6.579079592720401,6.147017480031337,6.475814880614507,6.411274435548324,6.669436215813058,7.066718262017256,6.530315949873594,6.708160482852769,6.793497418041876,6.989269727937836,7.114406417515359,6.782740303726049,7.066718262017256,6.519558835557767,6.713180170756317,6.8949689042903355,7.127314506528595,6.488722969627744,6.544299526235536,7.144166796096677,6.553263414693928,6.746884749892478,6.514539147654218,6.350678191036985,6.9595093493565185,6.591987681733638,6.869152726263861,6.621748060314955,6.566171503707165,6.888873729038082,6.277173857512409,6.540355325680691,6.721068571866005,6.718199858659865,6.746884749892478,6.6525839262449775,6.666567502606918,6.847280748792232,6.945525772994578,6.558283102597477,6.692383680633392,6.553263414693928,6.389402458076695,6.695252393839532,7.127314506528595,6.782740303726049,6.483703281724196,7.040902083990783,6.760868326254419,6.726088259769553,6.385458257521851,6.583023793275245,6.591987681733638,6.769832214712812,6.449998702588035,6.540355325680691,6.553263414693928,6.911821193858415,6.609915458650423,6.540355325680691,6.357491104797968,6.821464570765759,6.785609016932188,6.6823443048262945,6.808556481752523,6.514539147654218,6.579079592720401,6.843336548237389,6.3833072828244415,6.462906791601271,6.5235030361126105,6.6744559037166065,6.3377701020237485,6.8114251949586615,6.475814880614507,6.807480994403818,6.756924125699576,6.746884749892478,6.824333283971899,6.514539147654218,6.686288505381139,6.301914548190178,6.733976660879241,6.643620037786585,6.597007369637186,6.882060815277098,6.255301880040779,6.5611518158036155,6.933693171330045,6.772700927918952,6.608839971301719,6.989269727937836,6.713180170756317,6.886005015831943,6.562227303152321,6.462906791601271,7.0538101730040195,6.327730726216651,6.4241825245615605,6.462906791601271,6.505575259195825,6.597007369637186,6.759792838905715,6.478683593820647,6.772700927918952,6.83831686033384,6.7956483927392854,6.669436215813058,7.075682150475648,6.319842325106963,6.514539147654218,6.475814880614507,6.579079592720401,6.630711948773348,6.388326970727991,6.514539147654218,6.398366346535088,7.1183506180702025,6.7956483927392854,6.669436215813058,6.733976660879241,7.105442529056966,6.428126725116405,6.630711948773348,6.721068571866005,6.48764748227904,6.6525839262449775,6.880985327928394,6.8304284592241515,6.4241825245615605,6.651508438896273,6.669436215813058,6.726088259769553,6.731107947673102,6.989269727937836,6.784533529583484,6.690232705935983,6.759792838905715,6.58409928062395,6.488722969627744,6.411274435548324,7.105442529056966,6.8114251949586615,6.444979014684486,7.1531306845550695,6.518483348209061,6.686288505381139,6.514539147654218,6.604895770746875,6.863057551011608,7.079626351030493,6.465775504807411,6.190761434974596,6.6823443048262945,6.66154781470337,6.907876993303572,6.56509601635846,6.756924125699576,6.708160482852769,6.242393791027543,6.488722969627744,7.127314506528595,7.088590239488886,7.049865972449176,6.488722969627744,6.692383680633392,7.09253444004373,6.48764748227904,6.708160482852769,6.946601260343282,6.793497418041876,7.0538101730040195,6.534260150428437,6.471870680059664,6.893893416941631,6.475814880614507,6.597007369637186,6.829352971875447,6.461831304252566,6.808556481752523,6.630711948773348,6.6744559037166065,6.73899634878279,6.37147468115991,6.549319214139084,6.669436215813058,6.437090613574798,6.604895770746875,6.597007369637186,6.8601888378054685,6.432070925671249,6.656528126799822,6.808556481752523,6.695252393839532,6.428126725116405,6.985325527382992,6.808556481752523,6.863057551011608,7.027993994977546,6.579079592720401,6.557207615248772,6.465775504807411,7.083570551585337,6.980305839479444,6.923653795522948,6.656528126799822,7.024049794422702,6.735052148227946,6.927597996077792,6.8304284592241515,6.699196594394376,6.437090613574798,6.856244637250625,6.588043481178794,6.527447236667454,6.497686858086137,6.953414174104266,6.322711038313102,7.011141705409465,6.475814880614507,6.785609016932188,6.716048883962456,6.643620037786585,6.514539147654218,6.73899634878279,6.804612281197678,6.29402614708049,6.557207615248772,6.411274435548324,6.613859659205267,6.449998702588035,6.328806213565356,6.901781818051319,6.7547731510021665,6.517407860860358,7.066718262017256,6.5044997718471205,6.449998702588035,6.591987681733638,6.319842325106963,6.692383680633392,6.751904437796027,6.950545460898126,6.475814880614507,6.769832214712812,6.651508438896273,6.8601888378054685],\"yaxis\":\"y\",\"type\":\"scatter\"},{\"hovertemplate\":\"\\u003cb\\u003eOLS trendline\\u003c\\u002fb\\u003e\\u003cbr\\u003ePredicted Wages = 0.246295 * Actual Wages + 5.03852\\u003cbr\\u003eR\\u003csup\\u003e2\\u003c\\u002fsup\\u003e=0.285856\\u003cbr\\u003e\\u003cbr\\u003eActual Wages=%{x}\\u003cbr\\u003ePredicted Wages=%{y} \\u003cb\\u003e(trend)\\u003c\\u002fb\\u003e\\u003cextra\\u003e\\u003c\\u002fextra\\u003e\",\"legendgroup\":\"\",\"marker\":{\"color\":\"#636efa\",\"symbol\":\"circle\"},\"mode\":\"lines\",\"name\":\"\",\"showlegend\":false,\"x\":[5.01064,5.273,5.4161,5.4161,5.4161,5.50126,5.50126,5.52146,5.52146,5.59842,5.59842,5.59842,5.65249,5.66988,5.68358,5.70378,5.70378,5.70378,5.70378,5.73334,5.73657,5.73657,5.7462,5.74939,5.75257,5.75257,5.75257,5.76832,5.76832,5.78383,5.78383,5.79606,5.81413,5.81413,5.82008,5.82895,5.84354,5.84354,5.85793,5.85793,5.85793,5.86079,5.86647,5.8861,5.8861,5.8861,5.89715,5.89715,5.89715,5.8999,5.8999,5.9135,5.92693,5.93225,5.95324,5.95324,5.95324,5.95584,5.95842,5.96615,5.98141,5.98645,5.99146,5.99146,5.99146,5.99146,5.99146,5.99146,5.99146,5.99146,6.00141,6.01372,6.01616,6.02828,6.03309,6.03548,6.04025,6.04025,6.04025,6.04025,6.04025,6.04025,6.05209,6.05209,6.05209,6.05209,6.05209,6.06611,6.07535,6.07535,6.07993,6.09807,6.10032,6.10256,6.10702,6.10702,6.10925,6.10925,6.10925,6.10925,6.11147,6.12687,6.12687,6.12905,6.13123,6.13988,6.14633,6.14633,6.14633,6.16331,6.16331,6.16331,6.16331,6.1717,6.17379,6.17379,6.17379,6.17379,6.17794,6.18415,6.18826,6.19032,6.19644,6.19644,6.20456,6.20456,6.21261,6.21261,6.21461,6.21461,6.21461,6.21461,6.21461,6.21461,6.21461,6.21461,6.21461,6.21461,6.21461,6.21461,6.21461,6.21461,6.21461,6.22059,6.22258,6.22456,6.22456,6.22654,6.22654,6.23048,6.23441,6.23441,6.23637,6.24417,6.24998,6.25383,6.25767,6.26149,6.2634,6.2634,6.2634,6.27288,6.27476,6.2804,6.28227,6.286,6.286,6.28972,6.28972,6.29157,6.29157,6.29157,6.29342,6.30079,6.30079,6.30445,6.30628,6.30992,6.30992,6.30992,6.30992,6.30992,6.30992,6.30992,6.30992,6.30992,6.31173,6.31355,6.31716,6.31897,6.32436,6.32436,6.3315,6.33328,6.33328,6.33328,6.33328,6.33683,6.33683,6.34212,6.34388,6.34564,6.35089,6.35437,6.35437,6.35437,6.35437,6.35437,6.35957,6.35957,6.36475,6.37161,6.37502,6.37673,6.38182,6.38351,6.38856,6.38856,6.39192,6.39359,6.39359,6.39359,6.39526,6.39693,6.39693,6.39693,6.39693,6.39693,6.39693,6.39693,6.39693,6.39693,6.39693,6.39693,6.40192,6.41017,6.41182,6.42162,6.42162,6.42487,6.42487,6.43455,6.43455,6.43455,6.43615,6.43775,6.43775,6.44095,6.45047,6.45362,6.45362,6.4552,6.4552,6.46147,6.46459,6.46925,6.47697,6.47697,6.47697,6.47697,6.47697,6.47697,6.47697,6.47697,6.47697,6.47697,6.47697,6.47851,6.48004,6.48158,6.48158,6.48311,6.48311,6.48311,6.49224,6.49224,6.49224,6.49224,6.49375,6.49677,6.49979,6.50129,6.50129,6.50279,6.50429,6.51026,6.51175,6.51471,6.51471,6.51471,6.51471,6.51471,6.51471,6.51767,6.52209,6.52942,6.53669,6.53669,6.53959,6.54391,6.54391,6.54391,6.54535,6.54679,6.54822,6.55108,6.55108,6.55108,6.55108,6.55108,6.55108,6.55108,6.55108,6.55108,6.55108,6.55108,6.55108,6.55108,6.55108,6.55108,6.55251,6.55393,6.55393,6.5582,6.5582,6.55962,6.56244,6.56244,6.56386,6.56386,6.56386,6.56526,6.56526,6.56667,6.56808,6.57228,6.57368,6.57508,6.57508,6.57786,6.57786,6.57925,6.57925,6.58064,6.58617,6.58617,6.58755,6.5903,6.59167,6.59715,6.59715,6.59851,6.59987,6.59987,6.60259,6.60259,6.60665,6.608,6.608,6.6107,6.61607,6.6174,6.61874,6.62007,6.62007,6.62007,6.62007,6.62007,6.62007,6.62007,6.62007,6.62007,6.62007,6.62007,6.62007,6.62007,6.62007,6.62007,6.62007,6.62274,6.62936,6.632,6.63332,6.63332,6.63332,6.63332,6.63726,6.64118,6.64639,6.64639,6.64898,6.65286,6.65286,6.65286,6.65286,6.65544,6.65673,6.65673,6.65673,6.65801,6.65929,6.65929,6.65929,6.65929,6.65929,6.65929,6.65929,6.66058,6.66185,6.66313,6.66313,6.66441,6.66568,6.66568,6.66568,6.66823,6.67077,6.67203,6.6733,6.67834,6.6796,6.68211,6.68461,6.68461,6.68461,6.68461,6.68461,6.68586,6.69084,6.69084,6.69456,6.69456,6.69703,6.70319,6.70808,6.7093,6.71296,6.71538,6.71538,6.71538,6.71538,6.71538,6.72143,6.72263,6.72743,6.72743,6.73102,6.73102,6.73221,6.7334,6.7334,6.7334,6.73934,6.74406,6.74406,6.74524,6.74524,6.74524,6.74524,6.74524,6.74524,6.74524,6.74993,6.7511,6.75344,6.75926,6.76849,6.76849,6.77308,6.77422,6.77422,6.77422,6.77422,6.77422,6.77422,6.7901,6.79122,6.79122,6.79122,6.79347,6.79571,6.79794,6.80239,6.80239,6.80239,6.80239,6.80239,6.80239,6.80239,6.80239,6.80239,6.80239,6.80239,6.80239,6.80239,6.80239,6.80239,6.80461,6.80461,6.81124,6.81344,6.81344,6.81564,6.81674,6.81892,6.81892,6.82002,6.82437,6.82437,6.82546,6.82655,6.82763,6.82979,6.82979,6.82979,6.82979,6.82979,6.83195,6.83518,6.83841,6.84055,6.84375,6.84588,6.85646,6.85646,6.85646,6.85646,6.85646,6.85646,6.85646,6.85646,6.85646,6.85646,6.85646,6.85751,6.86485,6.86693,6.86693,6.86693,6.86693,6.86693,6.86901,6.87626,6.8773,6.8773,6.8773,6.88244,6.88244,6.88346,6.88449,6.88857,6.89264,6.8977,6.89972,6.90575,6.90575,6.90575,6.90575,6.90575,6.90575,6.90575,6.90575,6.90575,6.90575,6.90575,6.90575,6.90575,6.90575,6.90575,6.90575,6.90575,6.90575,6.90575,6.90575,6.90575,6.90575,6.90575,6.90575,6.90575,6.90575,6.90575,6.90575,6.90575,6.90575,6.90575,6.90575,6.90575,6.90575,6.90675,6.90776,6.90776,6.90776,6.90776,6.90776,6.90776,6.90776,6.90776,6.90776,6.90776,6.90776,6.90776,6.90776,6.90776,6.90776,6.90776,6.90776,6.90776,6.90776,6.90776,6.90776,6.90776,6.91175,6.91175,6.91274,6.91274,6.91771,6.91968,6.91968,6.9256,6.9256,6.92756,6.93245,6.93245,6.93342,6.93537,6.93634,6.93731,6.94986,6.95655,6.95655,6.95655,6.95655,6.95655,6.95655,6.95655,6.95655,6.95655,6.9594,6.96224,6.96602,6.96602,6.96791,6.96791,6.96791,6.97167,6.97261,6.97541,6.97541,6.97635,6.98379,6.98472,6.99026,6.99393,6.99393,6.99485,6.99485,7.00307,7.00307,7.00307,7.00307,7.0076,7.01031,7.01481,7.01481,7.02376,7.02554,7.02554,7.02554,7.02554,7.02554,7.02643,7.03527,7.03615,7.04141,7.04141,7.04752,7.04752,7.04752,7.04752,7.05186,7.05618,7.05876,7.06048,7.06048,7.06476,7.06561,7.06817,7.0775,7.07918,7.08841,7.09008,7.09008,7.09008,7.09008,7.09008,7.09008,7.09008,7.09008,7.09008,7.09257,7.09672,7.10661,7.11477,7.12448,7.12769,7.1293,7.1309,7.1309,7.1309,7.1309,7.1309,7.1309,7.1309,7.1309,7.1309,7.1309,7.1309,7.13569,7.14283,7.1507,7.15462,7.15462,7.16085,7.16549,7.17012,7.17012,7.17012,7.17012,7.17012,7.18007,7.18007,7.18159,7.18311,7.18917,7.18917,7.18992,7.19519,7.19818,7.20786,7.20786,7.20786,7.21082,7.21671,7.21891,7.21891,7.22621,7.22766,7.23346,7.23778,7.24423,7.24423,7.24566,7.25134,7.26193,7.26683,7.2724,7.27932,7.27932,7.27932,7.27932,7.28276,7.29302,7.29302,7.29709,7.2998,7.31322,7.31322,7.31322,7.31322,7.31322,7.31322,7.31322,7.31322,7.31986,7.32251,7.34278,7.34601,7.35244,7.35819,7.35947,7.37776,7.37776,7.37776,7.37776,7.40001,7.40853,7.40853,7.40853,7.40853,7.40853,7.40853,7.43838,7.45008,7.45298,7.45703,7.46737,7.46737,7.48156,7.48437,7.48717,7.48829,7.49332,7.49554,7.52294,7.52564,7.54961,7.59287,7.6009,7.6009,7.61874,7.66153,7.67322,7.67601,7.69621,7.69621,7.72886,7.75148,7.75577,7.78322,7.82405,7.88231,7.91936,7.91936,7.9831,8.04719,8.04879,8.05516,8.12089,8.13153,8.16052,8.22951,8.3082,8.51719],\"xaxis\":\"x\",\"y\":[6.272614450114409,6.337232427882292,6.372477254146143,6.372477254146143,6.372477254146143,6.393451743346909,6.393451743346909,6.398426904007495,6.398426904007495,6.417381773534162,6.417381773534162,6.417381773534162,6.4306989486291055,6.434982020108688,6.438356262734927,6.443331423395513,6.443331423395513,6.443331423395513,6.443331423395513,6.450611906025558,6.451407439141088,6.451407439141088,6.453779260782742,6.454564942094983,6.455348160456403,6.455348160456403,6.455348160456403,6.459227308001166,6.459227308001166,6.463047344726199,6.463047344726199,6.466059533581594,6.470510085717078,6.470510085717078,6.471975541456211,6.474160178835389,6.477753624084792,6.477753624084792,6.481297810317754,6.481297810317754,6.481297810317754,6.482002214252866,6.483401170319803,6.488235942783531,6.488235942783531,6.488235942783531,6.49095750344192,6.49095750344192,6.49095750344192,6.49163481491799,6.49163481491799,6.494984428036008,6.498292170990051,6.4996024608273935,6.504772194602923,6.504772194602923,6.504772194602923,6.505412561816661,6.506048003128756,6.507951864114218,6.5117103270687,6.5129516542830235,6.514185592644882,6.514185592644882,6.514185592644882,6.514185592644882,6.514185592644882,6.514185592644882,6.514185592644882,6.514185592644882,6.516636228712843,6.519668121174814,6.5202690811754,6.523254177571752,6.524438856917168,6.525027502163644,6.526202329705772,6.526202329705772,6.526202329705772,6.526202329705772,6.526202329705772,6.526202329705772,6.529118463479104,6.529118463479104,6.529118463479104,6.529118463479104,6.529118463479104,6.532571520531651,6.534847287091244,6.534847287091244,6.535975318567754,6.540443111358993,6.540997275293959,6.5415489762781025,6.542647452344747,6.542647452344747,6.543196690378069,6.543196690378069,6.543196690378069,6.543196690378069,6.543743465460569,6.54753640972656,6.54753640972656,6.548073333005772,6.5486102562849835,6.550740708746075,6.552329312026313,6.552329312026313,6.552329312026313,6.55651140252219,6.55651140252219,6.55651140252219,6.55651140252219,6.558577818261909,6.559092574983723,6.559092574983723,6.559092574983723,6.559092574983723,6.560114699574882,6.561644192035389,6.56265646482326,6.563163832692608,6.564671158595715,6.564671158595715,6.566671074663238,6.566671074663238,6.568653750075006,6.568653750075006,6.569146340239421,6.569146340239421,6.569146340239421,6.569146340239421,6.569146340239421,6.569146340239421,6.569146340239421,6.569146340239421,6.569146340239421,6.569146340239421,6.569146340239421,6.569146340239421,6.569146340239421,6.569146340239421,6.569146340239421,6.57061918483102,6.571109312044612,6.571596976307382,6.571596976307382,6.572084640570152,6.572084640570152,6.573055043194048,6.574022982867123,6.574022982867123,6.574505721228249,6.576426822869466,6.5778577972970895,6.578806033363587,6.579751806479263,6.580692653693294,6.58116307730031,6.58116307730031,6.58116307730031,6.583497954679634,6.583960989434184,6.585350093697833,6.58581066550156,6.586729346158193,6.586729346158193,6.587645563864004,6.587645563864004,6.588101209766087,6.588101209766087,6.588101209766087,6.588556855668171,6.590372050424038,6.590372050424038,6.591273490424916,6.591724210425355,6.592620724524589,6.592620724524589,6.592620724524589,6.592620724524589,6.592620724524589,6.592620724524589,6.592620724524589,6.592620724524589,6.592620724524589,6.5930665186233846,6.593514775673001,6.59440390091977,6.594849695018564,6.596177225511662,6.596177225511662,6.597935772398621,6.598374177644949,6.598374177644949,6.598374177644949,6.598374177644949,6.599248525186785,6.599248525186785,6.600551426171661,6.600984905516346,6.601418384861031,6.602711434042618,6.6035685409287,6.6035685409287,6.6035685409287,6.6035685409287,6.6035685409287,6.604849275356177,6.604849275356177,6.60612508388201,6.607814668145952,6.608654534376278,6.609075698966853,6.610329340935287,6.610745579624218,6.611989369789364,6.611989369789364,6.61281692126558,6.613228234052866,6.613228234052866,6.613228234052866,6.613639546840153,6.614050859627438,6.614050859627438,6.614050859627438,6.614050859627438,6.614050859627438,6.614050859627438,6.614050859627438,6.614050859627438,6.614050859627438,6.614050859627438,6.614050859627438,6.615279872087652,6.617311806515862,6.617718193401504,6.620131885207134,6.620131885207134,6.6209323442243075,6.6209323442243075,6.6233164806200735,6.6233164806200735,6.6233164806200735,6.623710552751605,6.624104624883136,6.624104624883136,6.6248927691462,6.627237498328812,6.628013327837765,6.628013327837765,6.628402474067652,6.628402474067652,6.6299467442330915,6.630715184889578,6.631862919972663,6.633764318007303,6.633764318007303,6.633764318007303,6.633764318007303,6.633764318007303,6.633764318007303,6.633764318007303,6.633764318007303,6.633764318007303,6.633764318007303,6.633764318007303,6.634143612433903,6.634520443909679,6.634899738336278,6.634899738336278,6.6352765698120555,6.6352765698120555,6.6352765698120555,6.637525243912608,6.637525243912608,6.637525243912608,6.637525243912608,6.63789714948674,6.638640960635006,6.639384771783272,6.639754214406582,6.639754214406582,6.640123657029894,6.640493099653204,6.641963481293981,6.64233046096647,6.643059494409803,6.643059494409803,6.643059494409803,6.643059494409803,6.643059494409803,6.643059494409803,6.643788527853136,6.644877152116493,6.646682495069071,6.648473060316718,6.648473060316718,6.6491873160551185,6.650251310810254,6.650251310810254,6.650251310810254,6.650605975728632,6.6509606406470105,6.6513128426145665,6.652017246549679,6.652017246549679,6.652017246549679,6.652017246549679,6.652017246549679,6.652017246549679,6.652017246549679,6.652017246549679,6.652017246549679,6.652017246549679,6.652017246549679,6.652017246549679,6.652017246549679,6.652017246549679,6.652017246549679,6.652369448517236,6.65271918753397,6.65271918753397,6.653770867534995,6.653770867534995,6.654120606551729,6.654815158683553,6.654815158683553,6.6551648977002875,6.6551648977002875,6.6551648977002875,6.655509710815378,6.655509710815378,6.65585698688129,6.656204262947202,6.657238702292473,6.657583515407563,6.657928328522653,6.657928328522653,6.658613028851189,6.658613028851189,6.658955379015456,6.658955379015456,6.659297729179724,6.660659740984331,6.660659740984331,6.660999628197777,6.661676939673846,6.6620143639364695,6.663364060986965,6.663364060986965,6.6636990222987675,6.664033983610569,6.664033983610569,6.664703906234172,6.664703906234172,6.665703864267934,6.666036362628914,6.666036362628914,6.666701359350872,6.668023963942326,6.668351536401661,6.668681571811819,6.669009144271154,6.669009144271154,6.669009144271154,6.669009144271154,6.669009144271154,6.669009144271154,6.669009144271154,6.669009144271154,6.669009144271154,6.669009144271154,6.669009144271154,6.669009144271154,6.669009144271154,6.669009144271154,6.669009144271154,6.669009144271154,6.669666752140648,6.671297225584859,6.671947444601886,6.6722725541104,6.6722725541104,6.6722725541104,6.6722725541104,6.673242956734296,6.674208433456549,6.675491630834848,6.675491630834848,6.676129535097765,6.677085160016729,6.677085160016729,6.677085160016729,6.677085160016729,6.677720601328823,6.678038321984871,6.678038321984871,6.678038321984871,6.678353579690096,6.678668837395321,6.678668837395321,6.678668837395321,6.678668837395321,6.678668837395321,6.678668837395321,6.678668837395321,6.678986558051369,6.679299352805772,6.679614610510997,6.679614610510997,6.679929868216222,6.680242662970626,6.680242662970626,6.680242662970626,6.680870715430254,6.68149630493906,6.681806636742641,6.6821194314970445,6.683360758711369,6.68367109051495,6.6842892911712894,6.684905028876807,6.684905028876807,6.684905028876807,6.684905028876807,6.684905028876807,6.685212897729567,6.686439447238959,6.686439447238959,6.68735566494477,6.68735566494477,6.687964013797821,6.689481191504218,6.690685574456211,6.690986054456504,6.691887494457382,6.692483528556323,6.692483528556323,6.692483528556323,6.692483528556323,6.692483528556323,6.693973613803677,6.694269167902325,6.69545138429692,6.69545138429692,6.696335583642044,6.696335583642044,6.696628674789871,6.696921765937697,6.696921765937697,6.696921765937697,6.698384758726008,6.699547271514026,6.699547271514026,6.699837899711031,6.699837899711031,6.699837899711031,6.699837899711031,6.699837899711031,6.699837899711031,6.699837899711031,6.700993023646582,6.701281188892765,6.70185751938513,6.703290956763576,6.705564260372348,6.705564260372348,6.706694754799679,6.706975531193395,6.706975531193395,6.706975531193395,6.706975531193395,6.706975531193395,6.706975531193395,6.710886697098846,6.711162547590918,6.711162547590918,6.711162547590918,6.7117167115258844,6.712268412510029,6.71281765054335,6.713913663659173,6.713913663659173,6.713913663659173,6.713913663659173,6.713913663659173,6.713913663659173,6.713913663659173,6.713913663659173,6.713913663659173,6.713913663659173,6.713913663659173,6.713913663659173,6.713913663659173,6.713913663659173,6.713913663659173,6.714460438741673,6.714460438741673,6.7160933751367065,6.716635224317562,6.716635224317562,6.717177073498418,6.717447998088846,6.717984921368058,6.717984921368058,6.718255845958486,6.719327229566087,6.719327229566087,6.719595691205693,6.7198641528452985,6.720130151534082,6.72066214891165,6.72066214891165,6.72066214891165,6.72066214891165,6.72066214891165,6.721194146289218,6.7219896794047465,6.722785212520276,6.7233122839962,6.724100428259263,6.724625036784364,6.727230838754116,6.727230838754116,6.727230838754116,6.727230838754116,6.727230838754116,6.727230838754116,6.727230838754116,6.727230838754116,6.727230838754116,6.727230838754116,6.727230838754116,6.727489448590434,6.729297254493835,6.729809548264826,6.729809548264826,6.729809548264826,6.729809548264826,6.729809548264826,6.730321842035817,6.732107481381819,6.732363628267315,6.732363628267315,6.732363628267315,6.73362958498986,6.73362958498986,6.733880805973711,6.734134489908384,6.73513937384379,6.736141794828373,6.737388047944341,6.7378855640104,6.739370723356109,6.739370723356109,6.739370723356109,6.739370723356109,6.739370723356109,6.739370723356109,6.739370723356109,6.739370723356109,6.739370723356109,6.739370723356109,6.739370723356109,6.739370723356109,6.739370723356109,6.739370723356109,6.739370723356109,6.739370723356109,6.739370723356109,6.739370723356109,6.739370723356109,6.739370723356109,6.739370723356109,6.739370723356109,6.739370723356109,6.739370723356109,6.739370723356109,6.739370723356109,6.739370723356109,6.739370723356109,6.739370723356109,6.739370723356109,6.739370723356109,6.739370723356109,6.739370723356109,6.739370723356109,6.739617018438317,6.739865776471346,6.739865776471346,6.739865776471346,6.739865776471346,6.739865776471346,6.739865776471346,6.739865776471346,6.739865776471346,6.739865776471346,6.739865776471346,6.739865776471346,6.739865776471346,6.739865776471346,6.739865776471346,6.739865776471346,6.739865776471346,6.739865776471346,6.739865776471346,6.739865776471346,6.739865776471346,6.739865776471346,6.739865776471346,6.740848493849352,6.740848493849352,6.741092325980738,6.741092325980738,6.742316412539307,6.742801613851256,6.742801613851256,6.7442596807379225,6.7442596807379225,6.744742419099048,6.7459468020510425,6.7459468020510425,6.746185708280783,6.746665983691087,6.746904889920828,6.747143796150569,6.75023479943227,6.751882513532236,6.751882513532236,6.751882513532236,6.751882513532236,6.751882513532236,6.751882513532236,6.751882513532236,6.751882513532236,6.751882513532236,6.752584454516526,6.753283932549994,6.754214927960738,6.754214927960738,6.754680425666109,6.754680425666109,6.754680425666109,6.755606495175209,6.755838012552483,6.756527638782663,6.756527638782663,6.756759156159938,6.75859159157156,6.7588206459980125,6.760185120753441,6.761089023705141,6.761089023705141,6.761315615180772,6.761315615180772,6.763340160756515,6.763340160756515,6.763340160756515,6.763340160756515,6.764455877478913,6.765123337151695,6.766231665021627,6.766231665021627,6.7684360060073825,6.7688744112537105,6.7688744112537105,6.7688744112537105,6.7688744112537105,6.7688744112537105,6.769093613876875,6.771270862403587,6.771487602075929,6.772783114208339,6.772783114208339,6.7742879771606255,6.7742879771606255,6.7742879771606255,6.7742879771606255,6.775356897817405,6.77642089257254,6.777056333884635,6.777479961426031,6.777479961426031,6.7785341043778775,6.778743455197754,6.779373970608204,6.781671903725197,6.7820856794633055,6.784358983072078,6.784770295859364,6.784770295859364,6.784770295859364,6.784770295859364,6.784770295859364,6.784770295859364,6.784770295859364,6.784770295859364,6.784770295859364,6.78538357061406,6.78640569520522,6.788841553568249,6.79085132143906,6.793242846687292,6.794033453901177,6.794429988983531,6.794824061115062,6.794824061115062,6.794824061115062,6.794824061115062,6.794824061115062,6.794824061115062,6.794824061115062,6.794824061115062,6.794824061115062,6.794824061115062,6.794824061115062,6.796003814558835,6.797762361445795,6.799700703742765,6.800666180465017,6.800666180465017,6.802200598827168,6.80334340800861,6.804483754239229,6.804483754239229,6.804483754239229,6.804483754239229,6.804483754239229,6.806934390307191,6.806934390307191,6.8073087588321455,6.807683127357101,6.809175675555276,6.809175675555276,6.809360396866932,6.810658371950163,6.811394794245963,6.813778930641729,6.813778930641729,6.813778930641729,6.814507964085062,6.815958642119263,6.816500491300118,6.816500491300118,6.818298445400231,6.818655573269432,6.820084084746234,6.821148079501368,6.8227366827816045,6.8227366827816045,6.823088884749161,6.824487840816098,6.827096105736673,6.828302951639488,6.829674815247382,6.831379177216256,6.831379177216256,6.831379177216256,6.831379177216256,6.8322264322990485,6.834753419842495,6.834753419842495,6.835755840827078,6.83642330049986,6.83972858050308,6.83972858050308,6.83972858050308,6.83972858050308,6.83972858050308,6.83972858050308,6.83972858050308,6.83972858050308,6.841363979848936,6.8420166618167855,6.847009063133125,6.847804596248654,6.8493882736272464,6.850804470349939,6.8511197280551634,6.8556244651087335,6.8556244651087335,6.8556244651087335,6.8556244651087335,6.861104530687844,6.863202964788249,6.863202964788249,6.863202964788249,6.863202964788249,6.863202964788249,6.863202964788249,6.870554872992134,6.8734365254539584,6.87415078119236,6.875148276275299,6.877694967425321,6.877694967425321,6.8811898946418415,6.8818819838228436,6.882571610053024,6.882847460545096,6.884086324808598,6.884633099891098,6.891381585143575,6.892046581865535,6.897950274986042,6.908605000242326,6.91058274975245,6.91058274975245,6.914976654019026,6.925515620586673,6.928394810097675,6.929081973377032,6.9340571340376185,6.9340571340376185,6.942098668471684,6.94766986323121,6.94872646913388,6.955487269140468,6.965543497346988,6.97989264883638,6.989017881632157,6.989017881632157,7.004716730172044,7.0205017819907045,7.0208958541222355,7.022464753795896,7.038653729549376,7.041274309224059,7.048414403657247,7.065406301378722,7.084787261397607,7.136260470628091],\"yaxis\":\"y\",\"type\":\"scatter\"}],                        {\"template\":{\"data\":{\"histogram2dcontour\":[{\"type\":\"histogram2dcontour\",\"colorbar\":{\"outlinewidth\":0,\"ticks\":\"\"},\"colorscale\":[[0.0,\"#0d0887\"],[0.1111111111111111,\"#46039f\"],[0.2222222222222222,\"#7201a8\"],[0.3333333333333333,\"#9c179e\"],[0.4444444444444444,\"#bd3786\"],[0.5555555555555556,\"#d8576b\"],[0.6666666666666666,\"#ed7953\"],[0.7777777777777778,\"#fb9f3a\"],[0.8888888888888888,\"#fdca26\"],[1.0,\"#f0f921\"]]}],\"choropleth\":[{\"type\":\"choropleth\",\"colorbar\":{\"outlinewidth\":0,\"ticks\":\"\"}}],\"histogram2d\":[{\"type\":\"histogram2d\",\"colorbar\":{\"outlinewidth\":0,\"ticks\":\"\"},\"colorscale\":[[0.0,\"#0d0887\"],[0.1111111111111111,\"#46039f\"],[0.2222222222222222,\"#7201a8\"],[0.3333333333333333,\"#9c179e\"],[0.4444444444444444,\"#bd3786\"],[0.5555555555555556,\"#d8576b\"],[0.6666666666666666,\"#ed7953\"],[0.7777777777777778,\"#fb9f3a\"],[0.8888888888888888,\"#fdca26\"],[1.0,\"#f0f921\"]]}],\"heatmap\":[{\"type\":\"heatmap\",\"colorbar\":{\"outlinewidth\":0,\"ticks\":\"\"},\"colorscale\":[[0.0,\"#0d0887\"],[0.1111111111111111,\"#46039f\"],[0.2222222222222222,\"#7201a8\"],[0.3333333333333333,\"#9c179e\"],[0.4444444444444444,\"#bd3786\"],[0.5555555555555556,\"#d8576b\"],[0.6666666666666666,\"#ed7953\"],[0.7777777777777778,\"#fb9f3a\"],[0.8888888888888888,\"#fdca26\"],[1.0,\"#f0f921\"]]}],\"heatmapgl\":[{\"type\":\"heatmapgl\",\"colorbar\":{\"outlinewidth\":0,\"ticks\":\"\"},\"colorscale\":[[0.0,\"#0d0887\"],[0.1111111111111111,\"#46039f\"],[0.2222222222222222,\"#7201a8\"],[0.3333333333333333,\"#9c179e\"],[0.4444444444444444,\"#bd3786\"],[0.5555555555555556,\"#d8576b\"],[0.6666666666666666,\"#ed7953\"],[0.7777777777777778,\"#fb9f3a\"],[0.8888888888888888,\"#fdca26\"],[1.0,\"#f0f921\"]]}],\"contourcarpet\":[{\"type\":\"contourcarpet\",\"colorbar\":{\"outlinewidth\":0,\"ticks\":\"\"}}],\"contour\":[{\"type\":\"contour\",\"colorbar\":{\"outlinewidth\":0,\"ticks\":\"\"},\"colorscale\":[[0.0,\"#0d0887\"],[0.1111111111111111,\"#46039f\"],[0.2222222222222222,\"#7201a8\"],[0.3333333333333333,\"#9c179e\"],[0.4444444444444444,\"#bd3786\"],[0.5555555555555556,\"#d8576b\"],[0.6666666666666666,\"#ed7953\"],[0.7777777777777778,\"#fb9f3a\"],[0.8888888888888888,\"#fdca26\"],[1.0,\"#f0f921\"]]}],\"surface\":[{\"type\":\"surface\",\"colorbar\":{\"outlinewidth\":0,\"ticks\":\"\"},\"colorscale\":[[0.0,\"#0d0887\"],[0.1111111111111111,\"#46039f\"],[0.2222222222222222,\"#7201a8\"],[0.3333333333333333,\"#9c179e\"],[0.4444444444444444,\"#bd3786\"],[0.5555555555555556,\"#d8576b\"],[0.6666666666666666,\"#ed7953\"],[0.7777777777777778,\"#fb9f3a\"],[0.8888888888888888,\"#fdca26\"],[1.0,\"#f0f921\"]]}],\"mesh3d\":[{\"type\":\"mesh3d\",\"colorbar\":{\"outlinewidth\":0,\"ticks\":\"\"}}],\"scatter\":[{\"fillpattern\":{\"fillmode\":\"overlay\",\"size\":10,\"solidity\":0.2},\"type\":\"scatter\"}],\"parcoords\":[{\"type\":\"parcoords\",\"line\":{\"colorbar\":{\"outlinewidth\":0,\"ticks\":\"\"}}}],\"scatterpolargl\":[{\"type\":\"scatterpolargl\",\"marker\":{\"colorbar\":{\"outlinewidth\":0,\"ticks\":\"\"}}}],\"bar\":[{\"error_x\":{\"color\":\"#2a3f5f\"},\"error_y\":{\"color\":\"#2a3f5f\"},\"marker\":{\"line\":{\"color\":\"#E5ECF6\",\"width\":0.5},\"pattern\":{\"fillmode\":\"overlay\",\"size\":10,\"solidity\":0.2}},\"type\":\"bar\"}],\"scattergeo\":[{\"type\":\"scattergeo\",\"marker\":{\"colorbar\":{\"outlinewidth\":0,\"ticks\":\"\"}}}],\"scatterpolar\":[{\"type\":\"scatterpolar\",\"marker\":{\"colorbar\":{\"outlinewidth\":0,\"ticks\":\"\"}}}],\"histogram\":[{\"marker\":{\"pattern\":{\"fillmode\":\"overlay\",\"size\":10,\"solidity\":0.2}},\"type\":\"histogram\"}],\"scattergl\":[{\"type\":\"scattergl\",\"marker\":{\"colorbar\":{\"outlinewidth\":0,\"ticks\":\"\"}}}],\"scatter3d\":[{\"type\":\"scatter3d\",\"line\":{\"colorbar\":{\"outlinewidth\":0,\"ticks\":\"\"}},\"marker\":{\"colorbar\":{\"outlinewidth\":0,\"ticks\":\"\"}}}],\"scattermapbox\":[{\"type\":\"scattermapbox\",\"marker\":{\"colorbar\":{\"outlinewidth\":0,\"ticks\":\"\"}}}],\"scatterternary\":[{\"type\":\"scatterternary\",\"marker\":{\"colorbar\":{\"outlinewidth\":0,\"ticks\":\"\"}}}],\"scattercarpet\":[{\"type\":\"scattercarpet\",\"marker\":{\"colorbar\":{\"outlinewidth\":0,\"ticks\":\"\"}}}],\"carpet\":[{\"aaxis\":{\"endlinecolor\":\"#2a3f5f\",\"gridcolor\":\"white\",\"linecolor\":\"white\",\"minorgridcolor\":\"white\",\"startlinecolor\":\"#2a3f5f\"},\"baxis\":{\"endlinecolor\":\"#2a3f5f\",\"gridcolor\":\"white\",\"linecolor\":\"white\",\"minorgridcolor\":\"white\",\"startlinecolor\":\"#2a3f5f\"},\"type\":\"carpet\"}],\"table\":[{\"cells\":{\"fill\":{\"color\":\"#EBF0F8\"},\"line\":{\"color\":\"white\"}},\"header\":{\"fill\":{\"color\":\"#C8D4E3\"},\"line\":{\"color\":\"white\"}},\"type\":\"table\"}],\"barpolar\":[{\"marker\":{\"line\":{\"color\":\"#E5ECF6\",\"width\":0.5},\"pattern\":{\"fillmode\":\"overlay\",\"size\":10,\"solidity\":0.2}},\"type\":\"barpolar\"}],\"pie\":[{\"automargin\":true,\"type\":\"pie\"}]},\"layout\":{\"autotypenumbers\":\"strict\",\"colorway\":[\"#636efa\",\"#EF553B\",\"#00cc96\",\"#ab63fa\",\"#FFA15A\",\"#19d3f3\",\"#FF6692\",\"#B6E880\",\"#FF97FF\",\"#FECB52\"],\"font\":{\"color\":\"#2a3f5f\"},\"hovermode\":\"closest\",\"hoverlabel\":{\"align\":\"left\"},\"paper_bgcolor\":\"white\",\"plot_bgcolor\":\"#E5ECF6\",\"polar\":{\"bgcolor\":\"#E5ECF6\",\"angularaxis\":{\"gridcolor\":\"white\",\"linecolor\":\"white\",\"ticks\":\"\"},\"radialaxis\":{\"gridcolor\":\"white\",\"linecolor\":\"white\",\"ticks\":\"\"}},\"ternary\":{\"bgcolor\":\"#E5ECF6\",\"aaxis\":{\"gridcolor\":\"white\",\"linecolor\":\"white\",\"ticks\":\"\"},\"baxis\":{\"gridcolor\":\"white\",\"linecolor\":\"white\",\"ticks\":\"\"},\"caxis\":{\"gridcolor\":\"white\",\"linecolor\":\"white\",\"ticks\":\"\"}},\"coloraxis\":{\"colorbar\":{\"outlinewidth\":0,\"ticks\":\"\"}},\"colorscale\":{\"sequential\":[[0.0,\"#0d0887\"],[0.1111111111111111,\"#46039f\"],[0.2222222222222222,\"#7201a8\"],[0.3333333333333333,\"#9c179e\"],[0.4444444444444444,\"#bd3786\"],[0.5555555555555556,\"#d8576b\"],[0.6666666666666666,\"#ed7953\"],[0.7777777777777778,\"#fb9f3a\"],[0.8888888888888888,\"#fdca26\"],[1.0,\"#f0f921\"]],\"sequentialminus\":[[0.0,\"#0d0887\"],[0.1111111111111111,\"#46039f\"],[0.2222222222222222,\"#7201a8\"],[0.3333333333333333,\"#9c179e\"],[0.4444444444444444,\"#bd3786\"],[0.5555555555555556,\"#d8576b\"],[0.6666666666666666,\"#ed7953\"],[0.7777777777777778,\"#fb9f3a\"],[0.8888888888888888,\"#fdca26\"],[1.0,\"#f0f921\"]],\"diverging\":[[0,\"#8e0152\"],[0.1,\"#c51b7d\"],[0.2,\"#de77ae\"],[0.3,\"#f1b6da\"],[0.4,\"#fde0ef\"],[0.5,\"#f7f7f7\"],[0.6,\"#e6f5d0\"],[0.7,\"#b8e186\"],[0.8,\"#7fbc41\"],[0.9,\"#4d9221\"],[1,\"#276419\"]]},\"xaxis\":{\"gridcolor\":\"white\",\"linecolor\":\"white\",\"ticks\":\"\",\"title\":{\"standoff\":15},\"zerolinecolor\":\"white\",\"automargin\":true,\"zerolinewidth\":2},\"yaxis\":{\"gridcolor\":\"white\",\"linecolor\":\"white\",\"ticks\":\"\",\"title\":{\"standoff\":15},\"zerolinecolor\":\"white\",\"automargin\":true,\"zerolinewidth\":2},\"scene\":{\"xaxis\":{\"backgroundcolor\":\"#E5ECF6\",\"gridcolor\":\"white\",\"linecolor\":\"white\",\"showbackground\":true,\"ticks\":\"\",\"zerolinecolor\":\"white\",\"gridwidth\":2},\"yaxis\":{\"backgroundcolor\":\"#E5ECF6\",\"gridcolor\":\"white\",\"linecolor\":\"white\",\"showbackground\":true,\"ticks\":\"\",\"zerolinecolor\":\"white\",\"gridwidth\":2},\"zaxis\":{\"backgroundcolor\":\"#E5ECF6\",\"gridcolor\":\"white\",\"linecolor\":\"white\",\"showbackground\":true,\"ticks\":\"\",\"zerolinecolor\":\"white\",\"gridwidth\":2}},\"shapedefaults\":{\"line\":{\"color\":\"#2a3f5f\"}},\"annotationdefaults\":{\"arrowcolor\":\"#2a3f5f\",\"arrowhead\":0,\"arrowwidth\":1},\"geo\":{\"bgcolor\":\"white\",\"landcolor\":\"#E5ECF6\",\"subunitcolor\":\"white\",\"showland\":true,\"showlakes\":true,\"lakecolor\":\"white\"},\"title\":{\"x\":0.05},\"mapbox\":{\"style\":\"light\"}}},\"xaxis\":{\"anchor\":\"y\",\"domain\":[0.0,1.0],\"title\":{\"text\":\"Actual Wages\"}},\"yaxis\":{\"anchor\":\"x\",\"domain\":[0.0,1.0],\"title\":{\"text\":\"Predicted Wages\"}},\"legend\":{\"tracegroupgap\":0},\"title\":{\"text\":\"Actual vs Predicted Wages\"}},                        {\"responsive\": true}                    ).then(function(){\n",
              "                            \n",
              "var gd = document.getElementById('9cf38779-7670-4ec5-84fd-c236e57cb06e');\n",
              "var x = new MutationObserver(function (mutations, observer) {{\n",
              "        var display = window.getComputedStyle(gd).display;\n",
              "        if (!display || display === 'none') {{\n",
              "            console.log([gd, 'removed!']);\n",
              "            Plotly.purge(gd);\n",
              "            observer.disconnect();\n",
              "        }}\n",
              "}});\n",
              "\n",
              "// Listen for the removal of the full notebook cells\n",
              "var notebookContainer = gd.closest('#notebook-container');\n",
              "if (notebookContainer) {{\n",
              "    x.observe(notebookContainer, {childList: true});\n",
              "}}\n",
              "\n",
              "// Listen for the clearing of the current output cell\n",
              "var outputEl = gd.closest('.output');\n",
              "if (outputEl) {{\n",
              "    x.observe(outputEl, {childList: true});\n",
              "}}\n",
              "\n",
              "                        })                };                            </script>        </div>\n",
              "</body>\n",
              "</html>"
            ]
          },
          "metadata": {}
        }
      ],
      "source": [
        "#si-linear-regression\n",
        "\n",
        "\n",
        "import pandas as pd\n",
        "import numpy as np\n",
        "import plotly.express as px\n",
        "from sklearn.linear_model import LinearRegression\n",
        "from sklearn.model_selection import train_test_split\n",
        "from sklearn.metrics import mean_squared_error, r2_score\n",
        "\n",
        "url = \"https://github.com/dustywhite7/pythonMikkeli/raw/master/exampleData/wagePanelData.csv\"\n",
        "data = pd.read_csv(url)\n",
        "\n",
        "\n",
        "\n",
        "X = data[['education', 'years_experience']]\n",
        "y = data['log_wage']\n",
        "\n",
        "\n",
        "X_train, X_test, y_train, y_test = train_test_split(X, y, test_size=0.2, random_state=42)\n",
        "\n",
        "reg = LinearRegression()\n",
        "\n",
        "reg.fit(X_train, y_train)\n",
        "\n",
        "print(\"Coefficients:\", reg.coef_)\n",
        "print(\"Intercept:\", reg.intercept_)\n",
        "\n",
        "y_pred = reg.predict(X_test)\n",
        "\n",
        "mse = mean_squared_error(y_test, y_pred)\n",
        "r2 = r2_score(y_test, y_pred)\n",
        "\n",
        "print(f\"Mean Squared Error: {mse}\")\n",
        "print(f\"R^2 Score: {r2}\")\n",
        "\n",
        "results = pd.DataFrame({\n",
        "    'Actual Wages': y_test,\n",
        "    'Predicted Wages': y_pred\n",
        "})\n",
        "\n",
        "# Plot using plotly.express\n",
        "fig = px.scatter(results, x='Actual Wages', y='Predicted Wages',\n",
        "                 title=\"Actual vs Predicted Wages\",\n",
        "                 labels={'Actual Wages': 'Actual Wages', 'Predicted Wages': 'Predicted Wages'},\n",
        "                 trendline=\"ols\")  # Adding an ordinary least squares (OLS) trendline for regression line\n",
        "fig.show()"
      ]
    },
    {
      "cell_type": "markdown",
      "metadata": {
        "id": "MksE2OAET2Jp"
      },
      "source": [
        "## Solve-it!\n",
        "\n",
        "Import the pass/fail data for students in Portugal found here(https://github.com/dustywhite7/pythonMikkeli/raw/master/exampleData/passFailTrain.csv), and create a logistic regression model\n",
        "using `statsmodels` that can estimate the likelihood of students passing or failing class. The dependent variable is contained in the column called `G3`, which takes the value `1` when the student has a passing final grade, and `0` otherwise.\n",
        "\n",
        "Call your fitted model `reg`, and place all code for this exercise in the cell labeled `#si-logistic-regression` file found below."
      ]
    },
    {
      "cell_type": "code",
      "execution_count": null,
      "metadata": {
        "colab": {
          "base_uri": "https://localhost:8080/"
        },
        "id": "6oHpCILDT2Jp",
        "outputId": "4c30ec14-57ac-4a5c-a85a-913aa27af31c"
      },
      "outputs": [
        {
          "output_type": "stream",
          "name": "stdout",
          "text": [
            "Optimization terminated successfully.\n",
            "         Current function value: 0.570335\n",
            "         Iterations 5\n",
            "                           Logit Regression Results                           \n",
            "==============================================================================\n",
            "Dep. Variable:                     G3   No. Observations:                  296\n",
            "Model:                          Logit   Df Residuals:                      290\n",
            "Method:                           MLE   Df Model:                            5\n",
            "Date:                Mon, 18 Nov 2024   Pseudo R-squ.:                 0.08750\n",
            "Time:                        03:48:26   Log-Likelihood:                -168.82\n",
            "converged:                       True   LL-Null:                       -185.01\n",
            "Covariance Type:            nonrobust   LLR p-value:                 5.007e-06\n",
            "==============================================================================\n",
            "                 coef    std err          z      P>|z|      [0.025      0.975]\n",
            "------------------------------------------------------------------------------\n",
            "const          0.5863      0.776      0.756      0.450      -0.934       2.107\n",
            "studytime      0.1292      0.167      0.772      0.440      -0.199       0.457\n",
            "failures      -0.9281      0.193     -4.801      0.000      -1.307      -0.549\n",
            "absences      -0.0151      0.014     -1.041      0.298      -0.043       0.013\n",
            "famrel         0.0708      0.153      0.464      0.643      -0.229       0.370\n",
            "freetime       0.0244      0.132      0.185      0.853      -0.234       0.283\n",
            "==============================================================================\n",
            "0    0.758570\n",
            "1    0.766195\n",
            "2    0.745793\n",
            "3    0.743084\n",
            "4    0.709333\n",
            "dtype: float64\n"
          ]
        }
      ],
      "source": [
        "#si-logistic-regression\n",
        "\n",
        "\n",
        "import pandas as pd\n",
        "import statsmodels.api as sm\n",
        "\n",
        "url = \"https://github.com/dustywhite7/pythonMikkeli/raw/master/exampleData/passFailTrain.csv\"\n",
        "data = pd.read_csv(url)\n",
        "\n",
        "X = data[['studytime', 'failures', 'absences', 'famrel', 'freetime']]\n",
        "y = data['G3']\n",
        "\n",
        "X = sm.add_constant(X)\n",
        "\n",
        "reg = sm.Logit(y, X).fit()\n",
        "\n",
        "print(reg.summary())\n",
        "\n",
        "y_pred_prob = reg.predict(X)\n",
        "\n",
        "print(y_pred_prob.head())\n",
        "\n"
      ]
    },
    {
      "cell_type": "markdown",
      "metadata": {
        "id": "nMv47Z-UT2Jp"
      },
      "source": [
        "## Solve-it!\n",
        "\n",
        "Use the data on NFL franchise values included in the NFL Valuation data source (https://raw.githubusercontent.com/dustywhite7/Econ8320/master/AssignmentData/assignment12Data.csv) file to implement a Random Forest Classifier in sklearn using 100 trees to predict team-years when `Playoffs` takes the value `1` (when a team made the playoffs in that season).\n",
        "\n",
        "- Use Patsy to create `x2` and `y2` matrices\n",
        "- Create the classifier\n",
        "- Fit the classifier, and store the fitted model with the name `playoffForest`\n",
        "\n",
        "Place all code for this exercise in the cell labeled `#si-random-forest` file found below."
      ]
    },
    {
      "cell_type": "code",
      "execution_count": 8,
      "metadata": {
        "colab": {
          "base_uri": "https://localhost:8080/"
        },
        "id": "Jrdp1nYCT2Jq",
        "outputId": "074d4d0e-8d0f-4869-b13c-8251332fac5a"
      },
      "outputs": [
        {
          "output_type": "stream",
          "name": "stderr",
          "text": [
            "/usr/local/lib/python3.10/dist-packages/sklearn/base.py:1473: DataConversionWarning: A column-vector y was passed when a 1d array was expected. Please change the shape of y to (n_samples,), for example using ravel().\n",
            "  return fit_method(estimator, *args, **kwargs)\n"
          ]
        },
        {
          "output_type": "stream",
          "name": "stdout",
          "text": [
            "Accuracy: 0.59\n",
            "\n",
            "Feature Importances:\n",
            "Intercept: 0.0000\n",
            "Value: 0.2611\n",
            "Revenues: 0.2359\n",
            "OperatingIncome: 0.2550\n",
            "DebtToValue: 0.2209\n",
            "TVDeal: 0.0119\n",
            "LaborContract: 0.0152\n"
          ]
        }
      ],
      "source": [
        "#si-random-forest\n",
        "\n",
        "import pandas as pd\n",
        "from sklearn.ensemble import RandomForestClassifier\n",
        "from sklearn.model_selection import train_test_split\n",
        "from sklearn.metrics import accuracy_score\n",
        "import patsy\n",
        "\n",
        "url = \"https://raw.githubusercontent.com/dustywhite7/Econ8320/master/AssignmentData/assignment12Data.csv\"\n",
        "data = pd.read_csv(url)\n",
        "\n",
        "y2, x2 = patsy.dmatrices('Playoffs ~ Value + Revenues + OperatingIncome + DebtToValue + TVDeal + LaborContract', data, return_type='dataframe')\n",
        "\n",
        "X_train, X_test, y_train, y_test = train_test_split(x2, y2, test_size=0.3, random_state=42)\n",
        "\n",
        "playoffForest = RandomForestClassifier(n_estimators=100, random_state=42)\n",
        "playoffForest.fit(X_train, y_train)\n",
        "\n",
        "y_pred = playoffForest.predict(X_test)\n",
        "\n",
        "accuracy = accuracy_score(y_test, y_pred)\n",
        "print(f\"Accuracy: {accuracy:.2f}\")\n",
        "\n",
        "importances = playoffForest.feature_importances_\n",
        "print(\"\\nFeature Importances:\")\n",
        "for feature, importance in zip(x2.columns, importances):\n",
        "    print(f\"{feature}: {importance:.4f}\")\n"
      ]
    }
  ],
  "metadata": {
    "celltoolbar": "Create Assignment",
    "kernelspec": {
      "display_name": "Python 3 (ipykernel)",
      "language": "python",
      "name": "python3"
    },
    "language_info": {
      "codemirror_mode": {
        "name": "ipython",
        "version": 3
      },
      "file_extension": ".py",
      "mimetype": "text/x-python",
      "name": "python",
      "nbconvert_exporter": "python",
      "pygments_lexer": "ipython3",
      "version": "3.9.13"
    },
    "colab": {
      "provenance": []
    }
  },
  "nbformat": 4,
  "nbformat_minor": 0
}